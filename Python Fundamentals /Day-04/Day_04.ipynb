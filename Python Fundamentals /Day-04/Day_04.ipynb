{
  "nbformat": 4,
  "nbformat_minor": 0,
  "metadata": {
    "colab": {
      "provenance": [],
      "authorship_tag": "ABX9TyNDk6AM+53117MnmvtFNgBZ",
      "include_colab_link": true
    },
    "kernelspec": {
      "name": "python3",
      "display_name": "Python 3"
    },
    "language_info": {
      "name": "python"
    }
  },
  "cells": [
    {
      "cell_type": "markdown",
      "metadata": {
        "id": "view-in-github",
        "colab_type": "text"
      },
      "source": [
        "<a href=\"https://colab.research.google.com/github/Sha-diya/Road-to-Data-Science-/blob/main/Python%20Fundamentals%20/Day-04/Day_04.ipynb\" target=\"_parent\"><img src=\"https://colab.research.google.com/assets/colab-badge.svg\" alt=\"Open In Colab\"/></a>"
      ]
    },
    {
      "cell_type": "markdown",
      "source": [
        "# List\n",
        "- What are lists?\n",
        "- Lists vs Array\n",
        "- Characteristics of a List\n",
        "- How to create a list\n",
        "- Accessing items from a List\n",
        "- Editing items in a list\n",
        "- Deleting items from a list\n",
        "- Operations on a list\n",
        "- Functions on a list"
      ],
      "metadata": {
        "id": "5KnIUBkn0GMc"
      }
    },
    {
      "cell_type": "markdown",
      "source": [
        "# What are list\n",
        "List is a data type where you can store multiple items under one name. More technically, lists act like dinamica arrays which means you can add more items on the fly.  \n",
        "Like,  L = [ 20, 'Shadia', 30.37, [1,2,3,1] ]  \n",
        "- Why lists are required in programming?\n",
        "-- Helpful to store similar types of data\n",
        "\n",
        "\n"
      ],
      "metadata": {
        "id": "no-SyJdR0viS"
      }
    },
    {
      "cell_type": "markdown",
      "source": [
        "# Array vs Lists\n",
        "- Fixed vs Dynamic in size\n",
        "- Homogeneous -> Hetrogeneous\n",
        "- Speed of execution --> lists are slower\n",
        "- Memory --> list takes more storage\n"
      ],
      "metadata": {
        "id": "wx5GNyMU2cFF"
      }
    },
    {
      "cell_type": "markdown",
      "source": [
        "# How lists are stored in memory?\n",
        "- Lists are stores as array of pointers that reference objects stored elsewhere in memory  \n",
        "id() --> print memory address  \n"
      ],
      "metadata": {
        "id": "N-uiJg0s3Eyh"
      }
    },
    {
      "cell_type": "code",
      "execution_count": 4,
      "metadata": {
        "colab": {
          "base_uri": "https://localhost:8080/"
        },
        "id": "4DTgzRI2zB_l",
        "outputId": "936b8643-e467-41f8-f228-88baf3b7803f"
      },
      "outputs": [
        {
          "output_type": "stream",
          "name": "stdout",
          "text": [
            "140125867330880\n",
            "Memorry address of lists index: , 10750856, 10750888, 10750920\n",
            "Memory address of items of List: , 10750856, 10750888, 10750920\n"
          ]
        }
      ],
      "source": [
        "L = [1,2,3]\n",
        "print(id(L))\n",
        "print(\"Memorry address of lists index: \",id(L[0]), id(L[1]), id(L[2]),sep=', ')\n",
        "print(\"Memory address of items of List: \",id(1),id(2),id(3),sep=', ')"
      ]
    },
    {
      "cell_type": "markdown",
      "source": [
        "# Characteristics of lists\n",
        "- Ordered is important\n",
        "- Changeable / Mutable\n",
        "- Hetrogeneous\n",
        "- Can have suplicates\n",
        "- Are dynamic\n",
        "- Can be nested\n",
        "- items can be accessed\n",
        "-  can contain any kinds of objects in python"
      ],
      "metadata": {
        "id": "O5gQ1UuhKMu3"
      }
    },
    {
      "cell_type": "markdown",
      "source": [
        "# Creating a list"
      ],
      "metadata": {
        "id": "r_jj2dvUIQ2O"
      }
    },
    {
      "cell_type": "code",
      "source": [
        "# Empty\n",
        "Empty_list = []\n",
        "print(\"Enpty List: \", Empty_list)\n",
        "# 1D\n",
        "oneD_List = [1,2,4]\n",
        "print(\"One_D list: \", oneD_List)\n",
        "# 2D\n",
        "twoD_list = [1,2,3,[4,5]]\n",
        "print(\"Two_D List: \", twoD_list)\n",
        "# 3D\n",
        "threeD_list = [[[1,2],[3,4]],[[5,6],[7,8]]]\n",
        "print(\"Three_D list: \", threeD_list)\n",
        "# Hetrogenous\n",
        "hetrogenous = ['Shadia',21,44.5,True]\n",
        "print(\"Hetrogenous List: \", hetrogenous)\n",
        "# Using Type Conversion\n",
        "List = list(\"Shadia\")\n",
        "print(\"List using type convertion: \",List)"
      ],
      "metadata": {
        "colab": {
          "base_uri": "https://localhost:8080/"
        },
        "id": "7CA_I36SI8il",
        "outputId": "55d55aa6-02ff-4220-9aa3-8c7eedff91e5"
      },
      "execution_count": 5,
      "outputs": [
        {
          "output_type": "stream",
          "name": "stdout",
          "text": [
            "Enpty List:  []\n",
            "One_D list:  [1, 2, 4]\n",
            "Two_D List:  [1, 2, 3, [4, 5]]\n",
            "Three_D list:  [[[1, 2], [3, 4]], [[5, 6], [7, 8]]]\n",
            "Hetrogenous List:  ['Shadia', 21, 44.5, True]\n",
            "List using type convertion:  ['S', 'h', 'a', 'd', 'i', 'a']\n"
          ]
        }
      ]
    },
    {
      "cell_type": "markdown",
      "source": [
        "# Accessing items from a list\n"
      ],
      "metadata": {
        "id": "ayyEiNF5KlrR"
      }
    },
    {
      "cell_type": "code",
      "source": [
        "# Indexing\n",
        "L = [1,2,3,[4,5]]\n",
        "# positive indexing (Left to right and start from 0)\n",
        "print(L[0])\n",
        "print(L[3])\n",
        "\n",
        "# Negative indexing\n",
        "print(L[-1][-2])\n",
        "print(L[-2])\n",
        "\n",
        "L1 = [[[1, 2],[3, 4]],[[5, 6],[7, 8]]] # 3_D list\n",
        "print(L1[0][0][1])\n",
        "\n",
        "# Slicing\n",
        "L = [1,2,3,4,5,6,7]\n",
        "print(L[::-1])"
      ],
      "metadata": {
        "colab": {
          "base_uri": "https://localhost:8080/"
        },
        "id": "yjIQOd-h4mfW",
        "outputId": "8da6788c-3f67-4ee5-9685-13829693e0af"
      },
      "execution_count": 22,
      "outputs": [
        {
          "output_type": "stream",
          "name": "stdout",
          "text": [
            "1\n",
            "[4, 5]\n",
            "4\n",
            "3\n",
            "2\n",
            "[7, 6, 5, 4, 3, 2, 1]\n"
          ]
        }
      ]
    },
    {
      "cell_type": "markdown",
      "source": [
        "# Adding items to a list"
      ],
      "metadata": {
        "id": "cxrDWrLpKtpK"
      }
    },
    {
      "cell_type": "code",
      "source": [
        "# Append\n",
        "L = [1,2,3,4,5]\n",
        "p = [10,20]\n",
        "L.append(p) # add one item at a time\n",
        "print(\"Append\",L)\n",
        "\n",
        "# Extend\n",
        "L.extend([6,7,8]) # add multiple item at a time\n",
        "print('Extend',L)\n",
        "\n",
        "# insert\n",
        "L.insert(1,100) #insert(Pos, value)\n",
        "print('Insert',L)"
      ],
      "metadata": {
        "colab": {
          "base_uri": "https://localhost:8080/"
        },
        "id": "6W6JkCKZKyqJ",
        "outputId": "75448000-6e6c-4b46-f013-6951266b8e33"
      },
      "execution_count": 31,
      "outputs": [
        {
          "output_type": "stream",
          "name": "stdout",
          "text": [
            "Append [1, 2, 3, 4, 5, [10, 20]]\n",
            "Extend [1, 2, 3, 4, 5, [10, 20], 6, 7, 8]\n",
            "Insert [1, 100, 2, 3, 4, 5, [10, 20], 6, 7, 8]\n"
          ]
        }
      ]
    },
    {
      "cell_type": "markdown",
      "source": [
        "# Editing items in a list"
      ],
      "metadata": {
        "id": "R9nikalVQW7v"
      }
    },
    {
      "cell_type": "code",
      "source": [
        "L = [1,2,3,4,5]\n",
        "L[-1] = 500\n",
        "print(\"Editing with indexing: \",L)\n",
        "\n",
        "L[0:4] = [20,30,40,50]\n",
        "print(\"Editing with slicing: \",L)"
      ],
      "metadata": {
        "colab": {
          "base_uri": "https://localhost:8080/"
        },
        "id": "amjiTapvPBcc",
        "outputId": "6ff2ff90-27f3-40e5-cb5c-b16e6ff32eab"
      },
      "execution_count": 35,
      "outputs": [
        {
          "output_type": "stream",
          "name": "stdout",
          "text": [
            "Editing with indexing:  [1, 2, 3, 4, 500]\n",
            "Editing with slicing:  [20, 30, 40, 50, 500]\n"
          ]
        }
      ]
    },
    {
      "cell_type": "markdown",
      "source": [
        "# Deleting item from a list"
      ],
      "metadata": {
        "id": "VDEHv-71RAHL"
      }
    },
    {
      "cell_type": "code",
      "source": [
        "# del\n",
        "L = [1,2,3,4,5]\n",
        "del L[-1]\n",
        "print(\"Using indexing: \",L)\n",
        "\n",
        "del L[-3:]\n",
        "print(\"Using Slicing: \",L)\n",
        "\n",
        "L = [1,2,3,4,5]\n",
        "# remove -- remove items based on the value not index\n",
        "L.remove(5)\n",
        "print(\"Remove using 'remove' function based on value: \",L)\n",
        "\n",
        "# pop -- default delete last item\n",
        "L = [1,2,3,4,5]\n",
        "L.pop()\n",
        "print(L)\n",
        "\n",
        "# clear -- delete all the item from the list\n",
        "L = [1,2,3,4,5]\n",
        "L.clear()\n",
        "print(L)"
      ],
      "metadata": {
        "colab": {
          "base_uri": "https://localhost:8080/"
        },
        "id": "-yibgSAGQpz6",
        "outputId": "d1313a63-7f09-4b7a-a709-515a0eb74e1b"
      },
      "execution_count": 47,
      "outputs": [
        {
          "output_type": "stream",
          "name": "stdout",
          "text": [
            "Using indexing:  [1, 2, 3, 4]\n",
            "Using Slicing:  [1]\n",
            "Remove using 'remove' function based on value:  [1, 2, 3, 4]\n",
            "[1, 2, 3, 4]\n",
            "[]\n"
          ]
        }
      ]
    },
    {
      "cell_type": "markdown",
      "source": [
        "# Operation On list\n",
        "- Arithmetic\n",
        "- Membership\n",
        "- Loop"
      ],
      "metadata": {
        "id": "TEGdrLZZTg7S"
      }
    },
    {
      "cell_type": "code",
      "source": [
        "# Arithmetic -- (+, *)\n",
        "L1 = [1,2,3,4]\n",
        "L2 = [4,5,6,7]\n",
        "print(\"Addition: \",L1 + L2) # marge two list using '+'\n",
        "\n",
        "print(\"Marge L1 to L1 3 times: \",L1 * 3)"
      ],
      "metadata": {
        "colab": {
          "base_uri": "https://localhost:8080/"
        },
        "id": "Y7pMzbkeSSGi",
        "outputId": "3900c2c5-57fa-4762-fce5-75d875311f79"
      },
      "execution_count": 49,
      "outputs": [
        {
          "output_type": "stream",
          "name": "stdout",
          "text": [
            "Addition:  [1, 2, 3, 4, 4, 5, 6, 7]\n",
            "[1, 2, 3, 4, 1, 2, 3, 4, 1, 2, 3, 4]\n"
          ]
        }
      ]
    },
    {
      "cell_type": "code",
      "source": [
        "# Membership operator\n",
        "L1 = [1,2,3,4,5]\n",
        "L2 = [1,2,3,[4,5,6]]\n",
        "print(5 in L1)\n",
        "print([4,5,6] in L2)\n"
      ],
      "metadata": {
        "colab": {
          "base_uri": "https://localhost:8080/"
        },
        "id": "5omn_n4zT1b0",
        "outputId": "413edc40-f69d-45a5-c279-1fd5f2196bdc"
      },
      "execution_count": 53,
      "outputs": [
        {
          "output_type": "stream",
          "name": "stdout",
          "text": [
            "True\n",
            "True\n"
          ]
        }
      ]
    },
    {
      "cell_type": "code",
      "source": [
        "# loop\n",
        "L1 = [1,2,3,4,5]\n",
        "L2 = [1,2,3,[4,5,6]]\n",
        "L3 =[[[1,2],[3,4]],[[5,6],[7,8]]]\n",
        "\n",
        "for i in L3:\n",
        "  print(i)"
      ],
      "metadata": {
        "colab": {
          "base_uri": "https://localhost:8080/"
        },
        "id": "BZTYUcxeUjta",
        "outputId": "5b3eb08b-b1fa-4566-9bc6-ec69eec26df3"
      },
      "execution_count": 57,
      "outputs": [
        {
          "output_type": "stream",
          "name": "stdout",
          "text": [
            "[[1, 2], [3, 4]]\n",
            "[[5, 6], [7, 8]]\n"
          ]
        }
      ]
    },
    {
      "cell_type": "markdown",
      "source": [
        "# List Functions"
      ],
      "metadata": {
        "id": "MbVSVQlLUgt8"
      }
    },
    {
      "cell_type": "code",
      "source": [
        "# len/min/max/sorted\n",
        "L1 = [1,12,30,2,3,4,5]\n",
        "print(\"Length of the list is: \",len(L1))\n",
        "print(\"Minimum of the list is: \",min(L1))\n",
        "print(\"maximum of the list is: \",max(L1))\n",
        "print(\"Sorted list is: \",sorted(L1))# not permanent operation"
      ],
      "metadata": {
        "colab": {
          "base_uri": "https://localhost:8080/"
        },
        "id": "GAHyK365UOVm",
        "outputId": "34baf5fe-7954-45cd-bec5-5a09b053ae4a"
      },
      "execution_count": 68,
      "outputs": [
        {
          "output_type": "stream",
          "name": "stdout",
          "text": [
            "Length of the list is:  7\n",
            "Minimum of the list is:  1\n",
            "maximum of the list is:  30\n",
            "Sorted list is:  [1, 2, 3, 4, 5, 12, 30]\n"
          ]
        }
      ]
    },
    {
      "cell_type": "code",
      "source": [
        "# count\n",
        "L1 = [1,1,2,3,0,2,3,4,5]\n",
        "print(\"Return frequency: \",L1.count(1))"
      ],
      "metadata": {
        "colab": {
          "base_uri": "https://localhost:8080/"
        },
        "id": "uRLUuYMtVJy0",
        "outputId": "976168db-bd75-4a6d-a66a-aff0bf055783"
      },
      "execution_count": 63,
      "outputs": [
        {
          "output_type": "stream",
          "name": "stdout",
          "text": [
            "2\n"
          ]
        }
      ]
    },
    {
      "cell_type": "code",
      "source": [
        "# index\n",
        "L1 = [1,1,2,3,0,2,3,4,5]\n",
        "print('Index of \"2\" is: ',L1.index(2)) # not permanent operation"
      ],
      "metadata": {
        "colab": {
          "base_uri": "https://localhost:8080/"
        },
        "id": "nC3sqyigVLcT",
        "outputId": "37c887ca-76d1-4429-8dea-79b4c6ecd479"
      },
      "execution_count": 69,
      "outputs": [
        {
          "output_type": "stream",
          "name": "stdout",
          "text": [
            "Index of \"2\" is:  2\n"
          ]
        }
      ]
    },
    {
      "cell_type": "code",
      "source": [
        "# reverse\n",
        "L1 = [1,1,2,3,0,2,3,4,5]\n",
        "L1.reverse() # permanently reverses the list\n",
        "print(\"Reverse of the list is: \",L1)"
      ],
      "metadata": {
        "colab": {
          "base_uri": "https://localhost:8080/"
        },
        "id": "x4zyCyZ8VN1u",
        "outputId": "ef0380b1-3aa7-4d97-d625-41ee8dd26d99"
      },
      "execution_count": 70,
      "outputs": [
        {
          "output_type": "stream",
          "name": "stdout",
          "text": [
            "Reverse of the list is:  [5, 4, 3, 2, 0, 3, 2, 1, 1]\n"
          ]
        }
      ]
    },
    {
      "cell_type": "code",
      "source": [
        "# sort -- permanent\n",
        "L1 = [1,1,2,3,0,2,3,4,5]\n",
        "L1.sort() # make permaent change\n",
        "print(L1)"
      ],
      "metadata": {
        "colab": {
          "base_uri": "https://localhost:8080/"
        },
        "id": "MHjDbdWjV9d1",
        "outputId": "2bce4660-ada5-4870-ab81-4481d727f98b"
      },
      "execution_count": 71,
      "outputs": [
        {
          "output_type": "stream",
          "name": "stdout",
          "text": [
            "[0, 1, 1, 2, 2, 3, 3, 4, 5]\n"
          ]
        }
      ]
    },
    {
      "cell_type": "code",
      "source": [
        "# copy --> Shallow copy(Copy the item on new memory)\n",
        "L1 = [1,1,2,3,0,2,3,4,5]\n",
        "L = L1.copy()\n",
        "print(L)\n"
      ],
      "metadata": {
        "colab": {
          "base_uri": "https://localhost:8080/"
        },
        "id": "S9TEWTsKWVKd",
        "outputId": "2c05dae9-3a02-47dd-b524-3a4169ed579a"
      },
      "execution_count": 73,
      "outputs": [
        {
          "output_type": "stream",
          "name": "stdout",
          "text": [
            "[1, 1, 2, 3, 0, 2, 3, 4, 5]\n"
          ]
        }
      ]
    },
    {
      "cell_type": "markdown",
      "source": [
        "# List Comprehension\n",
        "List comprehension provides a concise way of creating lists.  \n",
        "newlist = [expression for item in iterable if condition == True]  \n",
        "Advantages of comprehension:  \n",
        "- More time-efficient and space efficient than loops\n",
        "- Require fewer lines of code\n",
        "- Transforms iterative statement into a formula"
      ],
      "metadata": {
        "id": "jVGw1Q8WXCIE"
      }
    },
    {
      "cell_type": "code",
      "source": [
        "# add 1 to 10 in a list\n",
        "L = []\n",
        "# for i in range(1,11):\n",
        "#   L.append(i)\n",
        "\n",
        "# print(L)\n",
        "\n",
        "L = [i for i in range(1,11)]\n",
        "print(L)"
      ],
      "metadata": {
        "colab": {
          "base_uri": "https://localhost:8080/"
        },
        "id": "nAAjdNMvWyOM",
        "outputId": "a9f7d877-7366-46a5-b3d9-956735d4f46a"
      },
      "execution_count": 75,
      "outputs": [
        {
          "output_type": "stream",
          "name": "stdout",
          "text": [
            "[1, 2, 3, 4, 5, 6, 7, 8, 9, 10]\n"
          ]
        }
      ]
    },
    {
      "cell_type": "code",
      "source": [
        "# scaler multiplication on a vector\n",
        "v = [2,3,4]\n",
        "s = -3\n",
        "\n",
        "# L = []\n",
        "# for i in v:\n",
        "#   L.append(i*s)\n",
        "# print(L)\n",
        "\n",
        "L = [i * s for i in v]\n",
        "print(L)"
      ],
      "metadata": {
        "colab": {
          "base_uri": "https://localhost:8080/"
        },
        "id": "ldsxa7TSYZ2Z",
        "outputId": "a2aa2dad-a35b-4af5-b75c-94ef964393cc"
      },
      "execution_count": 78,
      "outputs": [
        {
          "output_type": "stream",
          "name": "stdout",
          "text": [
            "[-6, -9, -12]\n"
          ]
        }
      ]
    },
    {
      "cell_type": "code",
      "source": [
        "# add squares\n",
        "L = [1,2,3,4]\n",
        "\n",
        "L1 = [i**2 for i in L]\n",
        "print(L1)"
      ],
      "metadata": {
        "colab": {
          "base_uri": "https://localhost:8080/"
        },
        "id": "dkKhWrEsZHWq",
        "outputId": "30099d40-5ec6-47c2-8ef7-938e8366ed27"
      },
      "execution_count": 80,
      "outputs": [
        {
          "output_type": "stream",
          "name": "stdout",
          "text": [
            "[1, 4, 9, 16]\n"
          ]
        }
      ]
    },
    {
      "cell_type": "code",
      "source": [
        "# print all the numbers that are divisible by 5 in the range of 1 to 50\n",
        "\n",
        "L = [ i for i in range(1,51) if i % 5 == 0]\n",
        "print(L)"
      ],
      "metadata": {
        "colab": {
          "base_uri": "https://localhost:8080/"
        },
        "id": "XhJ4EcFDZc8B",
        "outputId": "69f7b265-9635-4e0d-f762-e0bece7bd23a"
      },
      "execution_count": 81,
      "outputs": [
        {
          "output_type": "stream",
          "name": "stdout",
          "text": [
            "[5, 10, 15, 20, 25, 30, 35, 40, 45, 50]\n"
          ]
        }
      ]
    },
    {
      "cell_type": "code",
      "source": [
        "# find languages which start with letter p\n",
        "languages = ['java','python','php','c','javascript']\n",
        "\n",
        "print([language for language in languages if  language.startswith('p')])"
      ],
      "metadata": {
        "colab": {
          "base_uri": "https://localhost:8080/"
        },
        "id": "z-J59zm4Z0f0",
        "outputId": "4639b6ef-df6f-4715-ea96-74e7d8ebea96"
      },
      "execution_count": 83,
      "outputs": [
        {
          "output_type": "stream",
          "name": "stdout",
          "text": [
            "['python', 'php']\n"
          ]
        }
      ]
    },
    {
      "cell_type": "code",
      "source": [
        "# nested if with list comprehension\n",
        "basket = ['apple','guava','cherry','banana']\n",
        "my_fruits = ['apple','kiwi','graps','banana']\n",
        "\n",
        "# add new list from my_fruits and items if the fruit exists in the basket and also start with a\n",
        "[fruit for fruit in my_fruits if fruit in basket if fruit.startswith('a')]"
      ],
      "metadata": {
        "colab": {
          "base_uri": "https://localhost:8080/"
        },
        "id": "SNvFF5YSaOX1",
        "outputId": "9b0886c8-e76a-4d6e-ac6a-c9c6ea5b72f8"
      },
      "execution_count": 84,
      "outputs": [
        {
          "output_type": "execute_result",
          "data": {
            "text/plain": [
              "['apple']"
            ]
          },
          "metadata": {},
          "execution_count": 84
        }
      ]
    },
    {
      "cell_type": "code",
      "source": [
        "# print a (3,3) matrix using list comprehension --> nested list comprehension\n",
        "[[i*j for i in range(1,4)] for j in range(1,4)]"
      ],
      "metadata": {
        "colab": {
          "base_uri": "https://localhost:8080/"
        },
        "id": "R5djCwmRbs0U",
        "outputId": "8e801379-431f-4e05-96ec-99cd3204bbec"
      },
      "execution_count": 85,
      "outputs": [
        {
          "output_type": "execute_result",
          "data": {
            "text/plain": [
              "[[1, 2, 3], [2, 4, 6], [3, 6, 9]]"
            ]
          },
          "metadata": {},
          "execution_count": 85
        }
      ]
    },
    {
      "cell_type": "code",
      "source": [
        "# certesian products --> list comprehension on 2 list together\n",
        "L1 = [1,2,3,4]\n",
        "L2 = [4,5,6,7]\n",
        "\n",
        "[[i*j for i in L1] for j in L2]"
      ],
      "metadata": {
        "colab": {
          "base_uri": "https://localhost:8080/"
        },
        "id": "ZQtJqUX5cH7Y",
        "outputId": "fbee0a5d-46f0-400d-ed0a-1bd948adffd2"
      },
      "execution_count": 88,
      "outputs": [
        {
          "output_type": "execute_result",
          "data": {
            "text/plain": [
              "[[4, 8, 12, 16], [5, 10, 15, 20], [6, 12, 18, 24], [7, 14, 21, 28]]"
            ]
          },
          "metadata": {},
          "execution_count": 88
        }
      ]
    },
    {
      "cell_type": "markdown",
      "source": [
        "# two ways to traverse a list\n",
        "- item wise\n",
        "- index wise"
      ],
      "metadata": {
        "id": "3TH0oV98dAmq"
      }
    },
    {
      "cell_type": "code",
      "source": [
        "# itemwise\n",
        "L = [1,2,3,4,5]\n",
        "for i in L:\n",
        "  print(i)\n",
        "\n"
      ],
      "metadata": {
        "colab": {
          "base_uri": "https://localhost:8080/"
        },
        "id": "wDYEg-NLcj1B",
        "outputId": "2ac81b69-ce3f-4b08-993c-10cefef2b1be"
      },
      "execution_count": 89,
      "outputs": [
        {
          "output_type": "stream",
          "name": "stdout",
          "text": [
            "1\n",
            "2\n",
            "3\n",
            "4\n",
            "5\n"
          ]
        }
      ]
    },
    {
      "cell_type": "code",
      "source": [
        "# index wise\n",
        "L = [1,2,3,4,5]\n",
        "for i in range(0,len(L)):\n",
        "  print(L[i])"
      ],
      "metadata": {
        "colab": {
          "base_uri": "https://localhost:8080/"
        },
        "id": "dbB2sDrMdNCG",
        "outputId": "6383ac6f-7a4e-4948-b191-542171d8a038"
      },
      "execution_count": 91,
      "outputs": [
        {
          "output_type": "stream",
          "name": "stdout",
          "text": [
            "1\n",
            "2\n",
            "3\n",
            "4\n",
            "5\n"
          ]
        }
      ]
    },
    {
      "cell_type": "markdown",
      "source": [
        "# Zip\n",
        "The Zip() function returns a Zip object, which is an iterator of tuples where the first item in each passed iterator is paired together, and the second item in each passed iterator are paird together.   \n",
        "If the passed iterators have different lengths, the iterators with the lest items decides the lenght of the new iterators.  "
      ],
      "metadata": {
        "id": "uOeCmzIYdqjF"
      }
    },
    {
      "cell_type": "code",
      "source": [
        "# write a program to add items of two list index wise\n",
        "L1 = [1,2,3,4]\n",
        "L2 = [-1,-2,-3,-4]\n",
        "\n",
        "L3 = list(zip(L1,L2))\n",
        "print(L3)\n",
        "\n",
        "[i+j for i,j in L3]"
      ],
      "metadata": {
        "colab": {
          "base_uri": "https://localhost:8080/"
        },
        "id": "VwyQvkhddc28",
        "outputId": "7f2c3c61-e1c9-4b4e-c247-2a6bdd01cc84"
      },
      "execution_count": 2,
      "outputs": [
        {
          "output_type": "stream",
          "name": "stdout",
          "text": [
            "[(1, -1), (2, -2), (3, -3), (4, -4)]\n"
          ]
        },
        {
          "output_type": "execute_result",
          "data": {
            "text/plain": [
              "[0, 0, 0, 0]"
            ]
          },
          "metadata": {},
          "execution_count": 2
        }
      ]
    },
    {
      "cell_type": "markdown",
      "source": [
        "# Disadvantages of Python list\n",
        "- slow\n",
        "- Risky use\n",
        "- eats up more memory"
      ],
      "metadata": {
        "id": "ZlZKEZ72wE2H"
      }
    },
    {
      "cell_type": "code",
      "source": [
        "a = [1,2,3,4]\n",
        "b = a\n",
        "\n",
        "print(a)\n",
        "print(b)\n",
        "\n",
        "a.append(5)\n",
        "print(a)\n",
        "print(b)\n",
        "\n",
        "b = a.copy()\n",
        "a.append(6)\n",
        "\n",
        "print(a)\n",
        "print(b)"
      ],
      "metadata": {
        "colab": {
          "base_uri": "https://localhost:8080/"
        },
        "id": "Ou-aAGILz6e8",
        "outputId": "f12426e1-8f9e-454c-823b-282cb0472906"
      },
      "execution_count": 4,
      "outputs": [
        {
          "output_type": "stream",
          "name": "stdout",
          "text": [
            "[1, 2, 3, 4]\n",
            "[1, 2, 3, 4]\n",
            "[1, 2, 3, 4, 5]\n",
            "[1, 2, 3, 4, 5]\n",
            "[1, 2, 3, 4, 5, 6]\n",
            "[1, 2, 3, 4, 5]\n"
          ]
        }
      ]
    },
    {
      "cell_type": "markdown",
      "source": [
        "# List Programs"
      ],
      "metadata": {
        "id": "MUriGZIhxxL_"
      }
    },
    {
      "cell_type": "code",
      "source": [
        "# create 2 lists from a given list where\n",
        "# 1st list will contain all the odd numbers from the original list and\n",
        "# the 2nd one will contain all the even numbers\n",
        "\n",
        "L = [1,2,3,4,5,6,7]\n",
        "\n",
        "L1_odd = [i for i in L if i%2 != 0]\n",
        "L2_even = [i for i in L if i%2 == 0]\n",
        "\n",
        "print(\"Odd list: \", L1_odd)\n",
        "print(\"Even list: \", L2_even)"
      ],
      "metadata": {
        "colab": {
          "base_uri": "https://localhost:8080/"
        },
        "id": "wGn11fh8z7rK",
        "outputId": "7e4b5dbf-0792-47f3-a822-90065cb5683c"
      },
      "execution_count": 5,
      "outputs": [
        {
          "output_type": "stream",
          "name": "stdout",
          "text": [
            "Odd list:  [1, 3, 5, 7]\n",
            "Even list:  [2, 4, 6]\n"
          ]
        }
      ]
    },
    {
      "cell_type": "code",
      "source": [
        "# how to take list as input from user\n",
        "user_list = list(map(int,input(\"Enter your list items: \").split()))\n",
        "print(\"List from user: \",user_list)"
      ],
      "metadata": {
        "colab": {
          "base_uri": "https://localhost:8080/"
        },
        "id": "2c65Gsk12-eB",
        "outputId": "32744786-6fe8-4b8d-da1a-b3a6c1c4fb96"
      },
      "execution_count": 12,
      "outputs": [
        {
          "output_type": "stream",
          "name": "stdout",
          "text": [
            "Enter your list items: 1 2 3 4\n",
            "List from user:  [1, 2, 3, 4]\n"
          ]
        }
      ]
    },
    {
      "cell_type": "code",
      "source": [
        "# write a program to marge 2 list without using the + operator\n",
        "\n",
        "L1 = [1,2,3,4,5]\n",
        "L2 = [6,7,8,9]\n",
        "\n",
        "print(L1+L2)\n",
        "\n",
        "L1.extend(L2)\n",
        "print(L1)"
      ],
      "metadata": {
        "colab": {
          "base_uri": "https://localhost:8080/"
        },
        "id": "AV7HMoUF39hO",
        "outputId": "9ae46fd2-1889-45b6-a815-b060e67c8214"
      },
      "execution_count": 15,
      "outputs": [
        {
          "output_type": "stream",
          "name": "stdout",
          "text": [
            "[1, 2, 3, 4, 5, 6, 7, 8, 9]\n",
            "[1, 2, 3, 4, 5, 6, 7, 8, 9]\n"
          ]
        }
      ]
    },
    {
      "cell_type": "code",
      "source": [
        "# write a program to replace an item with a different item if found in the list\n",
        "L = [1,2,3,4,5,6,7]\n",
        "# replace 3 with 300\n",
        "\n",
        "for i in range(0,len(L)+1):\n",
        "  if L[i] == 3:\n",
        "    L[i] = 300\n",
        "    break\n",
        "\n",
        "print(L)"
      ],
      "metadata": {
        "colab": {
          "base_uri": "https://localhost:8080/"
        },
        "id": "T-l4lC304xNr",
        "outputId": "2ec30cd0-fbf8-4bff-f4d3-38fa9e3647a7"
      },
      "execution_count": 18,
      "outputs": [
        {
          "output_type": "stream",
          "name": "stdout",
          "text": [
            "[1, 2, 300, 4, 5, 6, 7]\n"
          ]
        }
      ]
    },
    {
      "cell_type": "code",
      "source": [
        "# write a program to convert 2D list into 1D list\n",
        "L_2D = [[1,2,3],[4,5,6]]\n",
        "\n",
        "L_1D = [i for j in L_2D for i in j]\n",
        "print(L_1D)"
      ],
      "metadata": {
        "colab": {
          "base_uri": "https://localhost:8080/"
        },
        "id": "NubyZFU35zQM",
        "outputId": "fd0ad8a8-73c7-4c31-bba6-f1b9235e1e11"
      },
      "execution_count": 24,
      "outputs": [
        {
          "output_type": "stream",
          "name": "stdout",
          "text": [
            "[1, 2, 3, 4, 5, 6]\n"
          ]
        }
      ]
    },
    {
      "cell_type": "code",
      "source": [
        "# write a program to remove duplicate items from the list\n",
        "L = [1,1,3,2,1,2,3,4,4,5,5]\n",
        "\n",
        "list(set(L))"
      ],
      "metadata": {
        "colab": {
          "base_uri": "https://localhost:8080/"
        },
        "id": "2-Y7xLPF59n7",
        "outputId": "4661cca3-931c-4a2a-87d2-5ca2d8832dde"
      },
      "execution_count": 25,
      "outputs": [
        {
          "output_type": "execute_result",
          "data": {
            "text/plain": [
              "[1, 2, 3, 4, 5]"
            ]
          },
          "metadata": {},
          "execution_count": 25
        }
      ]
    },
    {
      "cell_type": "code",
      "source": [
        "# write a program to check if a list is in ascending order or not\n",
        "L = [2,1,3,1,5,6]\n",
        "\n",
        "print('Is sorted: ',L == sorted(L))"
      ],
      "metadata": {
        "colab": {
          "base_uri": "https://localhost:8080/"
        },
        "id": "oM1RgRkA6FiP",
        "outputId": "d9480c67-bb6f-4544-ec96-2cf33ab9ad90"
      },
      "execution_count": 27,
      "outputs": [
        {
          "output_type": "stream",
          "name": "stdout",
          "text": [
            "Is sorted:  False\n"
          ]
        }
      ]
    },
    {
      "cell_type": "markdown",
      "source": [
        "###`Problem 1:` Combine two lists index-wise(columns wise)\n",
        "\n",
        "Write a program to add two lists index-wise. Create a new list that contains the 0th index item from both the list, then the 1st index item, and so on till the last element. any leftover items will get added at the end of the new list.\n",
        "\n",
        "`Given List:`\n",
        "```\n",
        "list1 = [\"M\", \"na\", \"i\", \"Kh\"]\n",
        "list2 = [\"y\", \"me\", \"s\", \"an\"]\n",
        "```\n",
        "\n",
        "`Output:`\n",
        "```\n",
        "[['M','y'], ['na', me'], ['i', 's'], ['Kh', 'an']]\n",
        "```"
      ],
      "metadata": {
        "id": "nQiO9KdUwlR3"
      }
    },
    {
      "cell_type": "code",
      "source": [
        "list1 = [\"M\", \"na\", \"i\", \"Kh\"]\n",
        "list2 = [\"y\", \"me\", \"s\", \"an\"]\n",
        "\n",
        "list(zip(list1,list2))"
      ],
      "metadata": {
        "colab": {
          "base_uri": "https://localhost:8080/"
        },
        "id": "bFAReLgF-O5T",
        "outputId": "ade1bfc5-8801-467d-a599-3d1f409cbb98"
      },
      "execution_count": 29,
      "outputs": [
        {
          "output_type": "execute_result",
          "data": {
            "text/plain": [
              "[('M', 'y'), ('na', 'me'), ('i', 's'), ('Kh', 'an')]"
            ]
          },
          "metadata": {},
          "execution_count": 29
        }
      ]
    },
    {
      "cell_type": "markdown",
      "source": [
        "### `Problem 2:` Add new item to list after a specified item\n",
        "Write a program to add item 7000 after 6000 in the following Python List\n",
        "```\n",
        "list1 = [10, 20, [300, 400, [5000, 6000], 500], 30, 40]\n",
        "```\n",
        "`Output:`\n",
        "```\n",
        "[10, 20, [300, 400, [5000, 6000, 7000], 500], 30, 40]\n",
        "```"
      ],
      "metadata": {
        "id": "z0jQ1OLwwpIZ"
      }
    },
    {
      "cell_type": "code",
      "source": [
        "list1 = [10, 20, [300, 400, [5000, 6000], 500], 30, 40]\n",
        "\n",
        "list1[2][2].append(7000)\n",
        "print(list1)"
      ],
      "metadata": {
        "colab": {
          "base_uri": "https://localhost:8080/"
        },
        "id": "fHoj7iZn-0JL",
        "outputId": "5a6c7e81-589f-4caa-c7d9-4b8dc9123e45"
      },
      "execution_count": 36,
      "outputs": [
        {
          "output_type": "stream",
          "name": "stdout",
          "text": [
            "[10, 20, [300, 400, [5000, 6000, 7000], 500], 30, 40]\n"
          ]
        }
      ]
    },
    {
      "cell_type": "markdown",
      "source": [
        "###`Problem 3:` Update no of items available\n",
        "\n",
        "Suppose you are given a list of candy and another list of same size representing no of items of respective candy.\n",
        "\n",
        "i.e -  \n",
        "```\n",
        "candy_list = ['Jelly Belly','Kit Kat','Double Bubble','Milky Way','Three Musketeers']\n",
        "no_of_items = [10,20,34,74,32]\n",
        "```\n",
        "\n",
        "Write a program to show no. of items of each candy type.\n",
        "\n",
        "`Output:`\n",
        "\n",
        "```\n",
        "Jelly Belly-10\n",
        "Kit Kat-20\n",
        "Double Bubble-34\n",
        "Milky Way-74\n",
        "Three Musketeers-32\n",
        "\n",
        "```"
      ],
      "metadata": {
        "id": "YwmO667hwsah"
      }
    },
    {
      "cell_type": "code",
      "source": [
        "candy_list = ['Jelly Belly','Kit Kat','Double Bubble','Milky Way','Three Musketeers']\n",
        "no_of_items = [10,20,34,74,32]\n",
        "\n",
        "for candy,item in zip(candy_list, no_of_items):\n",
        "  print(f\"{candy} - {item}\")"
      ],
      "metadata": {
        "colab": {
          "base_uri": "https://localhost:8080/"
        },
        "id": "FtsyDZXB_uvY",
        "outputId": "6f6b344d-8224-4fe2-9e15-24aae8a911ac"
      },
      "execution_count": 43,
      "outputs": [
        {
          "output_type": "stream",
          "name": "stdout",
          "text": [
            "Jelly Belly - 10\n",
            "Kit Kat - 20\n",
            "Double Bubble - 34\n",
            "Milky Way - 74\n",
            "Three Musketeers - 32\n"
          ]
        }
      ]
    },
    {
      "cell_type": "markdown",
      "source": [
        "###`Problem 4:` Running Sum on list\n",
        "Write a program to print a list after performing running sum on it.\n",
        "\n",
        "i.e:\n",
        "\n",
        "`Input:`\n",
        "```\n",
        "list1 = [1,2,3,4,5,6]\n",
        "```\n",
        "`Output:`\n",
        "```\n",
        "[1,3,6,10,15,21]\n",
        "```"
      ],
      "metadata": {
        "id": "8liQgwZlwvjZ"
      }
    },
    {
      "cell_type": "code",
      "source": [
        "list1 = [1,2,3,4,5,6]\n",
        "\n",
        "L = []\n",
        "sum = 0\n",
        "for i in list1:\n",
        "  sum += i\n",
        "  L.append(sum)\n",
        "\n",
        "print(L)\n"
      ],
      "metadata": {
        "colab": {
          "base_uri": "https://localhost:8080/"
        },
        "id": "vDK_z1N1B2LS",
        "outputId": "80a9ced5-afc4-4cd0-9f0e-646c3c9bb3e4"
      },
      "execution_count": 46,
      "outputs": [
        {
          "output_type": "stream",
          "name": "stdout",
          "text": [
            "[1, 3, 6, 10, 15, 21]\n"
          ]
        }
      ]
    },
    {
      "cell_type": "markdown",
      "source": [
        "###`Problem 5:` You are given a list of integers. You are asked to make a list by running through elements of the list by adding all elements greater and itself.\n",
        "\n",
        "i.e. Say given list is `[2,4,6,10,1]`\n",
        "resultant list will be `[22,20,10,23]`.\n",
        "\n",
        "For 1st element `2` ->> these are greater `(4+6+10)` values and `2` itself so on adding becomes `22`.\n",
        "\n",
        "For 2nd element `4` ->> greater elements are `(6, 10)` and `4` itself, so on adding `20`\n",
        "\n",
        "like wise for all other elememts.\n",
        "\n",
        "`[2,4,6,10,1]`-->`[22,20,16,10,23]`\n",
        "\n",
        "\n"
      ],
      "metadata": {
        "id": "eAteuNA5wye0"
      }
    },
    {
      "cell_type": "code",
      "source": [
        "list1 = [2,4,6,10,1]\n",
        "list2 = []\n",
        "sum = 0\n",
        "for i in list1:\n",
        "  for j in list1:\n",
        "    if j >= i:\n",
        "      sum += j\n",
        "  list2.append(sum)\n",
        "  sum = 0\n",
        "\n",
        "print(\"list2: \", list2)"
      ],
      "metadata": {
        "colab": {
          "base_uri": "https://localhost:8080/"
        },
        "id": "pOvLEOFMCLDZ",
        "outputId": "06cc7eb2-dff4-42cf-e97d-1fa31ac805e0"
      },
      "execution_count": 49,
      "outputs": [
        {
          "output_type": "stream",
          "name": "stdout",
          "text": [
            "list2:  [22, 20, 16, 10, 23]\n"
          ]
        }
      ]
    },
    {
      "cell_type": "markdown",
      "source": [
        "###`Problem 6:` Find list of common unique items from two list. and show in increasing order\n",
        "\n",
        "`Input`\n",
        "\n",
        "```\n",
        "num1 = [23,45,67,78,89,34]\n",
        "num2 = [34,89,55,56,39,67]\n",
        "```\n",
        "\n",
        "`Output:`\n",
        "```\n",
        "[34, 67, 89]\n",
        "```\n"
      ],
      "metadata": {
        "id": "H-rcBkjgw2bf"
      }
    },
    {
      "cell_type": "code",
      "source": [
        "num1 = [23,45,67,78,89,34]\n",
        "num2 = [34,89,55,56,39,67]\n",
        "\n",
        "L = []\n",
        "for i in num1:\n",
        "  for j in num2:\n",
        "    if i == j:\n",
        "      L.append(i)\n",
        "      break\n",
        "\n",
        "\n",
        "L.sort()\n",
        "print(L)"
      ],
      "metadata": {
        "colab": {
          "base_uri": "https://localhost:8080/"
        },
        "id": "Rtwfo3ALMexK",
        "outputId": "d3830792-a65e-4ad5-d653-7c8ed4d2f4c0"
      },
      "execution_count": 52,
      "outputs": [
        {
          "output_type": "stream",
          "name": "stdout",
          "text": [
            "[34, 67, 89]\n"
          ]
        }
      ]
    },
    {
      "cell_type": "markdown",
      "source": [
        "###`Problem 7:` Sort a list of alphanumeric strings based on product value of numeric character in it. If in any string there is no numeric character take it's product value as 1.\n",
        "\n",
        "`Input:`\n",
        "```\n",
        "['1ac21', '23fg', '456', '098d','1','kls']\n",
        "```\n",
        "\n",
        "`Output:`\n",
        "```\n",
        "['456', '23fg', '1ac21', '1', 'kls', '098d']\n",
        "\n",
        "```"
      ],
      "metadata": {
        "id": "EE5EypMRw4hC"
      }
    },
    {
      "cell_type": "code",
      "source": [
        "from functools import reduce\n",
        "\n",
        "def product_of_digits(s):\n",
        "    # Extract numeric characters\n",
        "    digits = [int(char) for char in s if char.isdigit()]\n",
        "    # Compute product, return 1 if no digits are found\n",
        "    return reduce(lambda x, y: x * y, digits, 1) if digits else 1\n",
        "\n",
        "# Given list\n",
        "alphanumeric_list = ['1ac21', '23fg', '456', '098d', '1', 'kls']\n",
        "\n",
        "# Sorting based on product value of digits\n",
        "sorted_list = sorted(alphanumeric_list, key=product_of_digits, reverse=True)\n",
        "\n",
        "# Output the sorted list\n",
        "print(sorted_list)\n"
      ],
      "metadata": {
        "colab": {
          "base_uri": "https://localhost:8080/"
        },
        "id": "wuZzd7qMM2j5",
        "outputId": "76680406-c8b2-4298-a111-e3a3dcf47778"
      },
      "execution_count": 61,
      "outputs": [
        {
          "output_type": "stream",
          "name": "stdout",
          "text": [
            "['456', '23fg', '1ac21', '1', 'kls', '098d']\n"
          ]
        }
      ]
    },
    {
      "cell_type": "markdown",
      "source": [
        "`Problem 8:` Split String of list on K character.\n",
        "\n",
        "**Example :**\n",
        "\n",
        "Input:\n",
        "```bash\n",
        "['CampusX is a channel', 'for data-science', 'aspirants.']\n",
        "```\n",
        "\n",
        "Output:\n",
        "```bash\n",
        "['CampusX', 'is', 'a', 'channel', 'for', 'data-science', 'aspirants.']\n",
        "```"
      ],
      "metadata": {
        "id": "d2bbVWy5xAMo"
      }
    },
    {
      "cell_type": "code",
      "source": [
        "list1 = ['CampusX is a channel', 'for data-science', 'aspirants.']\n",
        "L = [word for sentence in list1 for word in sentence.split()]\n",
        "\n",
        "print(L)"
      ],
      "metadata": {
        "colab": {
          "base_uri": "https://localhost:8080/"
        },
        "id": "woiKPjLnONsV",
        "outputId": "82c4f734-55ed-4daa-b73c-11cb38244233"
      },
      "execution_count": 72,
      "outputs": [
        {
          "output_type": "stream",
          "name": "stdout",
          "text": [
            "['CampusX', 'is', 'a', 'channel', 'for', 'data-science', 'aspirants.']\n"
          ]
        }
      ]
    },
    {
      "cell_type": "markdown",
      "source": [
        "### `Problem 9:` Convert Character Matrix to single String using string comprehension.\n",
        "\n",
        "**Example 1:**\n",
        "\n",
        "Input:\n",
        "```bash\n",
        "[['c', 'a', 'm', 'p', 'u', 'x'], ['i', 's'], ['b', 'e', 's', 't'], ['c', 'h', 'a', 'n', 'n', 'e', 'l']]\n",
        "```\n",
        "\n",
        "Output:\n",
        "```bash\n",
        "campux is best channel\n",
        "```"
      ],
      "metadata": {
        "id": "jKQJ1sK6ytc3"
      }
    },
    {
      "cell_type": "code",
      "source": [
        "list1 = [['c', 'a', 'm', 'p', 'u', 'x'], ['i', 's'], ['b', 'e', 's', 't'], ['c', 'h', 'a', 'n', 'n', 'e', 'l']]\n",
        "result =' '.join(''.join(i) for i in list1)\n",
        "result"
      ],
      "metadata": {
        "colab": {
          "base_uri": "https://localhost:8080/",
          "height": 35
        },
        "id": "GkVNKgJzPkcD",
        "outputId": "40601c76-5773-4d37-be3b-c8a2d7ebe4da"
      },
      "execution_count": 73,
      "outputs": [
        {
          "output_type": "execute_result",
          "data": {
            "text/plain": [
              "'campux is best channel'"
            ],
            "application/vnd.google.colaboratory.intrinsic+json": {
              "type": "string"
            }
          },
          "metadata": {},
          "execution_count": 73
        }
      ]
    },
    {
      "cell_type": "markdown",
      "source": [
        "### `Problem 10:` Add Space between Potential Words.\n",
        "\n",
        "**Example:**\n",
        "\n",
        "Input:\n",
        "\n",
        "```bash\n",
        "['campusxIs', 'bestFor', 'dataScientist']\n",
        "```\n",
        "\n",
        "Output:\n",
        "```bash\n",
        "['campusx Is', 'best For', 'data Scientist']\n",
        "```"
      ],
      "metadata": {
        "id": "qKavh4hZy1sm"
      }
    },
    {
      "cell_type": "code",
      "source": [
        "import re # for regular expressions\n",
        "list1 = ['campusxIs', 'bestFor', 'dataScientist']\n",
        "[re.sub(r'([a-z])([A-Z])',r'\\1 \\2',word) for word in list1]"
      ],
      "metadata": {
        "colab": {
          "base_uri": "https://localhost:8080/"
        },
        "id": "2fQgU42PP70d",
        "outputId": "8a7c5a52-9573-4d8e-eef7-ce3ee6b8441d"
      },
      "execution_count": 75,
      "outputs": [
        {
          "output_type": "execute_result",
          "data": {
            "text/plain": [
              "['campusx Is', 'best For', 'data Scientist']"
            ]
          },
          "metadata": {},
          "execution_count": 75
        }
      ]
    },
    {
      "cell_type": "markdown",
      "source": [
        "### `Problem 11:` Write a program that can perform union operation on 2 lists\n",
        "\n",
        "**Example:**\n",
        "\n",
        "Input:\n",
        "\n",
        "```bash\n",
        "[1,2,3,4,5,1]\n",
        "[2,3,5,7,8]\n",
        "```\n",
        "\n",
        "Output:\n",
        "```bash\n",
        "[1,2,3,4,5,7,8]\n",
        "```"
      ],
      "metadata": {
        "id": "igeLA2yay-r-"
      }
    },
    {
      "cell_type": "code",
      "source": [
        "list1 = [1,2,3,4,5,1]\n",
        "list2 = [2,3,5,7,8]\n",
        "\n",
        "union_result = list(set(list1) | set(list2))\n",
        "union_result.sort()\n",
        "\n",
        "print(union_result)\n"
      ],
      "metadata": {
        "colab": {
          "base_uri": "https://localhost:8080/"
        },
        "id": "eGV7sqUFQqSm",
        "outputId": "ab15ffb7-63dd-460e-f9f5-bfce431fd36e"
      },
      "execution_count": 76,
      "outputs": [
        {
          "output_type": "stream",
          "name": "stdout",
          "text": [
            "[1, 2, 3, 4, 5, 7, 8]\n"
          ]
        }
      ]
    },
    {
      "cell_type": "markdown",
      "source": [
        "### `Problem 12:` Write a program that can find the max number of each row of a matrix\n",
        "\n",
        "**Example:**\n",
        "\n",
        "Input:\n",
        "\n",
        "```bash\n",
        "[[1,2,3],[4,5,6],[7,8,9]]\n",
        "```\n",
        "\n",
        "Output:\n",
        "```bash\n",
        "[3,6,9]\n",
        "```"
      ],
      "metadata": {
        "id": "crJ9HeHrzAiu"
      }
    },
    {
      "cell_type": "code",
      "source": [
        "List1 = [[1,2,3],[4,5,6],[7,8,9]]\n",
        "L = []\n",
        "for i in List1:\n",
        "  L.append(max(i))\n",
        "\n",
        "L"
      ],
      "metadata": {
        "colab": {
          "base_uri": "https://localhost:8080/"
        },
        "id": "ANtfIyFARLla",
        "outputId": "e5dd44fc-4684-4ac7-dcd9-93e6a50c9a0c"
      },
      "execution_count": 80,
      "outputs": [
        {
          "output_type": "execute_result",
          "data": {
            "text/plain": [
              "[3, 6, 9]"
            ]
          },
          "metadata": {},
          "execution_count": 80
        }
      ]
    },
    {
      "cell_type": "markdown",
      "source": [
        "### `Problem 13:` Write a list comprehension to print the following matrix\n",
        "\n",
        "[[0, 1, 2], [3, 4, 5], [6, 7, 8]]"
      ],
      "metadata": {
        "id": "Li1SFcY4zKZ8"
      }
    },
    {
      "cell_type": "code",
      "source": [
        "[[i*3 + j for j in range(3)] for i in range(3)]"
      ],
      "metadata": {
        "colab": {
          "base_uri": "https://localhost:8080/"
        },
        "id": "Kne3vei7RZ_Q",
        "outputId": "43ab3959-e92b-470f-c1b7-55e3fe51b696"
      },
      "execution_count": 83,
      "outputs": [
        {
          "output_type": "execute_result",
          "data": {
            "text/plain": [
              "[[0, 1, 2], [3, 4, 5], [6, 7, 8]]"
            ]
          },
          "metadata": {},
          "execution_count": 83
        }
      ]
    },
    {
      "cell_type": "markdown",
      "source": [
        "### `Problem 14:` Write a list comprehension that can transpose a given matrix\n",
        "\n",
        "matrix = [<br>\n",
        "  [1,2,3],<br>\n",
        "          [4,5,6],<br>\n",
        "          [7,8,9]<br>]<br>\n",
        "\n",
        "[1, 4, 7]<br>\n",
        "[2, 5, 8]<br>\n",
        "[3, 6, 9]<br>"
      ],
      "metadata": {
        "id": "yDBOl8sfzOts"
      }
    },
    {
      "cell_type": "code",
      "source": [
        "matrix = [\n",
        "    [1, 2, 3],\n",
        "    [4, 5, 6],\n",
        "    [7, 8, 9]\n",
        "]\n",
        "\n",
        "transpose = [[matrix[j][i] for j in range(len(matrix))] for i in range(len(matrix[0]))]\n",
        "for row in transpose:\n",
        "    print(row)"
      ],
      "metadata": {
        "colab": {
          "base_uri": "https://localhost:8080/"
        },
        "id": "0TnABrbURzpV",
        "outputId": "a2522a12-3277-401f-b1c8-5d9547038c61"
      },
      "execution_count": 85,
      "outputs": [
        {
          "output_type": "stream",
          "name": "stdout",
          "text": [
            "[1, 4, 7]\n",
            "[2, 5, 8]\n",
            "[3, 6, 9]\n"
          ]
        }
      ]
    },
    {
      "cell_type": "markdown",
      "source": [
        "### `Problem 15:` Write a list comprehension that can flatten a nested list\n",
        "\n",
        "Input<br>\n",
        "matrix = [<br>\n",
        "  [1,2,3],<br>\n",
        "          [4,5,6],<br>\n",
        "          [7,8,9]<br>]<br>\n",
        "\n",
        "Output:<br>\n",
        "[1, 2, 3, 4, 5, 6, 7, 8, 9]"
      ],
      "metadata": {
        "id": "CE6XcpfPzSY_"
      }
    },
    {
      "cell_type": "code",
      "source": [
        "matrix = [\n",
        "    [1, 2, 3],\n",
        "    [4, 5, 6],\n",
        "    [7, 8, 9]\n",
        "]\n",
        "flattened = [item for sublist in matrix for item in sublist]\n",
        "print(flattened)"
      ],
      "metadata": {
        "colab": {
          "base_uri": "https://localhost:8080/"
        },
        "id": "v7syqJIZekWh",
        "outputId": "26489506-919f-46f0-867e-5a78134e76e5"
      },
      "execution_count": 86,
      "outputs": [
        {
          "output_type": "stream",
          "name": "stdout",
          "text": [
            "[1, 2, 3, 4, 5, 6, 7, 8, 9]\n"
          ]
        }
      ]
    }
  ]
}