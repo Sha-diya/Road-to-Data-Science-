{
  "nbformat": 4,
  "nbformat_minor": 0,
  "metadata": {
    "colab": {
      "provenance": [],
      "authorship_tag": "ABX9TyN2787X7TIfW1Hf4zpiX2gD",
      "include_colab_link": true
    },
    "kernelspec": {
      "name": "python3",
      "display_name": "Python 3"
    },
    "language_info": {
      "name": "python"
    }
  },
  "cells": [
    {
      "cell_type": "markdown",
      "metadata": {
        "id": "view-in-github",
        "colab_type": "text"
      },
      "source": [
        "<a href=\"https://colab.research.google.com/github/Sha-diya/Road-to-Data-Science-/blob/main/Python%20Fundamentals%20/Day-01/Day_01.ipynb\" target=\"_parent\"><img src=\"https://colab.research.google.com/assets/colab-badge.svg\" alt=\"Open In Colab\"/></a>"
      ]
    },
    {
      "cell_type": "markdown",
      "source": [
        "# Python Output"
      ],
      "metadata": {
        "id": "IF9E6xG3-y4I"
      }
    },
    {
      "cell_type": "code",
      "execution_count": null,
      "metadata": {
        "colab": {
          "base_uri": "https://localhost:8080/"
        },
        "id": "j3kPxiAB-uac",
        "outputId": "92ad8171-a029-4d27-e942-b3a74360d3c3"
      },
      "outputs": [
        {
          "output_type": "stream",
          "name": "stdout",
          "text": [
            "Hello World\n"
          ]
        }
      ],
      "source": [
        "#Python is case sensitive language\n",
        "print(\"Hello World\")"
      ]
    },
    {
      "cell_type": "code",
      "source": [
        "print(\"This is Shadia, From Bangladesh a Data scientiest To be\")"
      ],
      "metadata": {
        "colab": {
          "base_uri": "https://localhost:8080/"
        },
        "id": "MAp2_pXG_mX7",
        "outputId": "5ea9ed3c-58ab-41cf-fcd1-cd396d815089"
      },
      "execution_count": null,
      "outputs": [
        {
          "output_type": "stream",
          "name": "stdout",
          "text": [
            "This is Shadia, From Bangladesh a Data scientiest To be\n"
          ]
        }
      ]
    },
    {
      "cell_type": "code",
      "source": [
        "print(\"What are you doing?\", 1 , 7.33 , True)"
      ],
      "metadata": {
        "colab": {
          "base_uri": "https://localhost:8080/"
        },
        "id": "oTEZ0mS0_7Wp",
        "outputId": "8f4d3808-5c76-4de1-9e2a-e93e75ac168b"
      },
      "execution_count": null,
      "outputs": [
        {
          "output_type": "stream",
          "name": "stdout",
          "text": [
            "What are you doing? 1 7.33 True\n"
          ]
        }
      ]
    },
    {
      "cell_type": "code",
      "source": [
        "print(\"What are you doing?\", 1 , 7.33 , True, sep=', ')"
      ],
      "metadata": {
        "colab": {
          "base_uri": "https://localhost:8080/"
        },
        "outputId": "de848786-1590-4e1f-d028-5e95c510c2e2",
        "id": "YQKsbweQAkih"
      },
      "execution_count": null,
      "outputs": [
        {
          "output_type": "stream",
          "name": "stdout",
          "text": [
            "What are you doing?, 1, 7.33, True\n"
          ]
        }
      ]
    },
    {
      "cell_type": "code",
      "source": [
        "print(\"Hello\",end='-')\n",
        "print(\"shadia\")"
      ],
      "metadata": {
        "colab": {
          "base_uri": "https://localhost:8080/"
        },
        "id": "3eWWNPO_BFXj",
        "outputId": "d88aa0da-cf7b-4e7b-91e1-78035bf5a301"
      },
      "execution_count": null,
      "outputs": [
        {
          "output_type": "stream",
          "name": "stdout",
          "text": [
            "Hello-shadia\n"
          ]
        }
      ]
    },
    {
      "cell_type": "markdown",
      "source": [
        "# Data Type"
      ],
      "metadata": {
        "id": "lt0Wyl5n--zO"
      }
    },
    {
      "cell_type": "code",
      "source": [
        "#Integer\n",
        "print(\"Integer: \",121)\n",
        "#Decimal/Float\n",
        "print(\"Decimal point number: \",12.1112)\n",
        "#String/Text\n",
        "print(\"String: \",\"Shadia you can do what you want.\")\n",
        "#Boolen\n",
        "print(\"Boolen data: \", True,\"/\" ,False)\n",
        "#complex number\n",
        "print(\"Complx number: \",5+6j)"
      ],
      "metadata": {
        "colab": {
          "base_uri": "https://localhost:8080/"
        },
        "id": "gBhoO2OdBEcw",
        "outputId": "2fefa9d1-f3d7-4677-fb0e-7dab6e056189"
      },
      "execution_count": null,
      "outputs": [
        {
          "output_type": "stream",
          "name": "stdout",
          "text": [
            "Integer:  121\n",
            "Decimal point number:  12.1112\n",
            "String:  Shadia you can do what you want.\n",
            "Boolen data:  True / False\n",
            "Complx number:  (5+6j)\n"
          ]
        }
      ]
    },
    {
      "cell_type": "code",
      "source": [
        "#List\n",
        "A_list = [1,2,3,4]\n",
        "print(\"List: \",A_list)\n",
        "#Tuple\n",
        "A_tuple = (1,2,4,5)\n",
        "print(\"Tuple: \",A_tuple)\n",
        "#sets\n",
        "A_sets={1,2,3,4}\n",
        "print(\"Sets: \",A_sets)\n",
        "#Disctionary\n",
        "A_dictionary={\n",
        "    \"Name\" : \"Shadia\",\n",
        "    \"Age\" : 24,\n",
        "    \"Country\": \"Bangladesh\"\n",
        "}\n",
        "print(\"Dictionary: \", A_dictionary)"
      ],
      "metadata": {
        "colab": {
          "base_uri": "https://localhost:8080/"
        },
        "id": "zmX3omjj-7Ng",
        "outputId": "81d7bf5e-f7d7-44a0-d6e2-bce8c5fabd8d"
      },
      "execution_count": null,
      "outputs": [
        {
          "output_type": "stream",
          "name": "stdout",
          "text": [
            "List:  [1, 2, 3, 4]\n",
            "Tuple:  (1, 2, 4, 5)\n",
            "Sets:  {1, 2, 3, 4}\n",
            "Dictionary:  {'Name': 'Shadia', 'Age': 24, 'Country': 'Bangladesh'}\n"
          ]
        }
      ]
    },
    {
      "cell_type": "code",
      "source": [
        "#type-->tells the data type of the veriable\n",
        "type(A_sets)"
      ],
      "metadata": {
        "colab": {
          "base_uri": "https://localhost:8080/"
        },
        "id": "DEUzyKlwDae1",
        "outputId": "842b3cdd-a3dc-4274-d686-eebd076ca62f"
      },
      "execution_count": null,
      "outputs": [
        {
          "output_type": "execute_result",
          "data": {
            "text/plain": [
              "set"
            ]
          },
          "metadata": {},
          "execution_count": 29
        }
      ]
    },
    {
      "cell_type": "markdown",
      "source": [
        "# Variables"
      ],
      "metadata": {
        "id": "jGOM5RbGFfNB"
      }
    },
    {
      "cell_type": "code",
      "source": [
        "# Static vs Dynamic Typing\n",
        "#-->Dinamic Typing: do not tell the type of the datatype, the laguage it self interpret the type\n",
        "#-->Static typing: need to tell the data type of the variables\n",
        "\n",
        "# Static vs Dynamic Binding\n",
        "#-->Dynamic Binding: The earlest assignment is assign to the variable Whcih can be of any type\n",
        "#--> static Binding: can not change the data is once declear in the scope\n",
        "\n",
        "# Stylish declaration Techniques\n",
        "name = 'Shadia'\n",
        "age = 24\n",
        "weight = 44.45\n",
        "\n",
        "print(\" name:\",name,\"\\n\",\"Age:\",age,\"\\n\", \"Weight:\",weight)"
      ],
      "metadata": {
        "colab": {
          "base_uri": "https://localhost:8080/"
        },
        "id": "z4L5G5MMFVMl",
        "outputId": "86f12fb1-00bc-4dea-d40f-b7d8afa62534"
      },
      "execution_count": null,
      "outputs": [
        {
          "output_type": "stream",
          "name": "stdout",
          "text": [
            " name: Shadia \n",
            " Age: 24 \n",
            " Weight: 44.45\n"
          ]
        }
      ]
    },
    {
      "cell_type": "code",
      "source": [
        "a,b,c=1,2,\"shadia\"\n",
        "print(a,b,c,sep=',')\n",
        "\n",
        "a=b=c=121\n",
        "print(a,b,c,sep=',')"
      ],
      "metadata": {
        "colab": {
          "base_uri": "https://localhost:8080/"
        },
        "id": "vRemrgDqcqQD",
        "outputId": "6e214edd-2378-4a0c-dcd6-7e639bfcae82"
      },
      "execution_count": null,
      "outputs": [
        {
          "output_type": "stream",
          "name": "stdout",
          "text": [
            "1,2,shadia\n",
            "121,121,121\n"
          ]
        }
      ]
    },
    {
      "cell_type": "markdown",
      "source": [
        "# Keyword and identifiers"
      ],
      "metadata": {
        "id": "u07UlLm2dnqn"
      }
    },
    {
      "cell_type": "code",
      "source": [
        "#keywords\n",
        "\"\"\"Python is an interpreter that interpret code line by line.\"\"\"\n",
        "\n",
        "#Identifiers\n",
        "\"\"\"built in class, functions name that are created by the developer\n",
        "Rules:\n",
        "1.can't start with digit\n",
        "2.no special carecter other the underscore \"_\"\n",
        "3.can't be any keywords\"\"\""
      ],
      "metadata": {
        "id": "MbJH5NLVctJ6"
      },
      "execution_count": null,
      "outputs": []
    },
    {
      "cell_type": "markdown",
      "source": [
        "# User Input"
      ],
      "metadata": {
        "id": "GDeNhrsuKinl"
      }
    },
    {
      "cell_type": "code",
      "source": [
        "name = input(\"Enter you name: \")\n",
        "print(\"Your name is: \",name)"
      ],
      "metadata": {
        "colab": {
          "base_uri": "https://localhost:8080/"
        },
        "id": "qXUgqlNuKcb_",
        "outputId": "aa8390d1-a14c-46e8-9e78-c4439030364f"
      },
      "execution_count": 6,
      "outputs": [
        {
          "output_type": "stream",
          "name": "stdout",
          "text": [
            "Enter you name: Hello\n",
            "Your name is:  Hello\n"
          ]
        }
      ]
    },
    {
      "cell_type": "code",
      "source": [
        "#Add two number taking user input\n",
        "#1. Take input from the user\n",
        "'''#while taking input python store the data as string as string is the universal data format'''\n",
        "\n",
        "num_A = int(input(\"Enter 1st number: \"))\n",
        "num_B = int(input(\"Enter 2nd number: \"))\n",
        "#2.add the 2 variable and store them in a variable called result\n",
        "Result = num_A + num_B\n",
        "#3.print the result\n",
        "print(\"The addition of num_A and num_B is: \", Result)\n"
      ],
      "metadata": {
        "colab": {
          "base_uri": "https://localhost:8080/"
        },
        "id": "-Wef0WWhLQZo",
        "outputId": "6dae08a4-9801-4371-e432-6a11d7cd22a7"
      },
      "execution_count": 11,
      "outputs": [
        {
          "output_type": "stream",
          "name": "stdout",
          "text": [
            "Enter 1st number: 3121\n",
            "Enter 2nd number: 1\n",
            "The addition of num_A and num_B is:  3122\n"
          ]
        }
      ]
    },
    {
      "cell_type": "markdown",
      "source": [
        "# Type Conversion"
      ],
      "metadata": {
        "id": "2XQUI6tHNaNl"
      }
    },
    {
      "cell_type": "code",
      "source": [
        "#Implicit\n",
        "\"\"\"#Python handle type convertion internally\n",
        "#python convert the type of integer to float\"\"\"\n",
        "print(5+5.5)\n",
        "#Explicit\n",
        "#Developer handles the type conversion manually\n",
        "print(int(4.55))\n",
        "print(float(222))"
      ],
      "metadata": {
        "colab": {
          "base_uri": "https://localhost:8080/"
        },
        "id": "HeGbukN4K1A5",
        "outputId": "70d1c01d-b4d8-4531-aaee-3afc4ed30867"
      },
      "execution_count": 16,
      "outputs": [
        {
          "output_type": "stream",
          "name": "stdout",
          "text": [
            "10.5\n",
            "4\n",
            "222.0\n"
          ]
        }
      ]
    },
    {
      "cell_type": "markdown",
      "source": [
        "# Literals"
      ],
      "metadata": {
        "id": "trqZlQizRwZv"
      }
    },
    {
      "cell_type": "code",
      "source": [
        "binary_num =0b1010 # binary literals -> 0b\n",
        "print(\"From binary literals: \",binary_num)\n",
        "Decima_num = 1000 # decimal literal\n",
        "print(\"Decimal number: \",Decima_num)\n",
        "octal_num = 0o310 # Octal literal --> 0o\n",
        "print(\"From octal literal: \",octal_num)\n",
        "hexa_num = 0x12c # Hexadecimal literal --> 0x\n",
        "print(\"From Hexa literal: \",hexa_num)"
      ],
      "metadata": {
        "colab": {
          "base_uri": "https://localhost:8080/"
        },
        "id": "Ui_qwakvN3Cz",
        "outputId": "44553d98-4ae5-41a1-c831-3fccb47d1aab"
      },
      "execution_count": 27,
      "outputs": [
        {
          "output_type": "stream",
          "name": "stdout",
          "text": [
            "From binary literals:  10\n",
            "Decimal number:  1000\n",
            "From octal literal:  200\n",
            "From Hexa literal:  300\n",
            "1.21\n",
            "140.0\n",
            "0.0132\n",
            "0.0,1.4\n"
          ]
        }
      ]
    },
    {
      "cell_type": "code",
      "source": [
        "#Float literal\n",
        "Float_1 = 1.21\n",
        "print(Float_1)\n",
        "Float_2 = 1.4e2 # 1.4 * 10^2\n",
        "print(Float_2)\n",
        "Float_3 = 1.32e-2 # 1.32 * 10^-2\n",
        "print(Float_3)\n"
      ],
      "metadata": {
        "colab": {
          "base_uri": "https://localhost:8080/"
        },
        "id": "f5D1vZ9eR7FA",
        "outputId": "19a78330-ae90-4599-d2c8-fc17f90238b3"
      },
      "execution_count": 28,
      "outputs": [
        {
          "output_type": "stream",
          "name": "stdout",
          "text": [
            "1.21\n",
            "140.0\n",
            "0.0132\n"
          ]
        }
      ]
    },
    {
      "cell_type": "code",
      "source": [
        "#Complex literal\n",
        "complex_num = 1.4j\n",
        "print(complex_num.real , complex_num.imag, sep=',')"
      ],
      "metadata": {
        "colab": {
          "base_uri": "https://localhost:8080/"
        },
        "id": "8gJNOe-rT8rh",
        "outputId": "6fe9cf99-b8b3-45ab-f421-57b17d1d92f4"
      },
      "execution_count": 29,
      "outputs": [
        {
          "output_type": "stream",
          "name": "stdout",
          "text": [
            "0.0,1.4\n"
          ]
        }
      ]
    },
    {
      "cell_type": "code",
      "source": [
        "#String literal\n",
        "String_1 = \"This is double qouted String\"\n",
        "print(String_1)\n",
        "String_2 = 'This is single qouted String'\n",
        "print(String_2)\n",
        "String_3 = \"C\" #This is single character\n",
        "print(String_3)\n",
        "String_4 = \"\"\"This is threepal qouted string\"\"\"\n",
        "print(String_4)\n",
        "\n",
        "unicode = u\"\\U0001f600\"\n",
        "print(unicode)\n",
        "raw_str = r\"\\n for new line\" #used for \\t, \\n, and other tabs character\n",
        "print(raw_str)"
      ],
      "metadata": {
        "colab": {
          "base_uri": "https://localhost:8080/"
        },
        "id": "hRBdaQI-UAjp",
        "outputId": "c564efae-3e3b-497d-e786-be9c01b66288"
      },
      "execution_count": 33,
      "outputs": [
        {
          "output_type": "stream",
          "name": "stdout",
          "text": [
            "This is double qouted String\n",
            "This is single qouted String\n",
            "C\n",
            "This is threepal qouted string\n",
            "😀\n",
            "\\n for new line\n"
          ]
        }
      ]
    },
    {
      "cell_type": "code",
      "source": [
        "#Boolens\n",
        "#True = 1\n",
        "a = True + 4\n",
        "print(\"a: \", a)\n",
        "#False = 0\n",
        "b = False + 12\n",
        "print(\"b: \", b)"
      ],
      "metadata": {
        "colab": {
          "base_uri": "https://localhost:8080/"
        },
        "id": "yU1yoO4lVH-G",
        "outputId": "87aecdc2-b8b7-47be-dcdb-bd294969bcdd"
      },
      "execution_count": 34,
      "outputs": [
        {
          "output_type": "stream",
          "name": "stdout",
          "text": [
            "a:  5\n",
            "b:  12\n"
          ]
        }
      ]
    },
    {
      "cell_type": "code",
      "source": [
        "a = None\n",
        "print(\"Data Type of \", a, \"is \", type(a))"
      ],
      "metadata": {
        "colab": {
          "base_uri": "https://localhost:8080/"
        },
        "id": "oiOBoX8OWHBx",
        "outputId": "e260308b-7c7c-4bc9-d8be-5d1cf78618b9"
      },
      "execution_count": 38,
      "outputs": [
        {
          "output_type": "stream",
          "name": "stdout",
          "text": [
            "Data Type of  None is  <class 'NoneType'>\n"
          ]
        }
      ]
    },
    {
      "cell_type": "markdown",
      "source": [
        "# Practice till now\n"
      ],
      "metadata": {
        "id": "Jr4XU5hqbeZf"
      }
    },
    {
      "cell_type": "markdown",
      "source": [
        "# Q1 :- Print the given strings as per stated format.\n",
        "Input : \"Data\" \"Science\" \"Mentorship\" \"Program\"\n",
        "\"By\" \"CampusX\"\n",
        "\n",
        "---\n",
        "\n",
        "\n",
        "Output : Data-Science-Mentorship-Program-started-By-CampusX\n"
      ],
      "metadata": {
        "id": "W_CCeeGubn5K"
      }
    },
    {
      "cell_type": "code",
      "source": [
        "s1 = \"Data\"\n",
        "s2 = \"Science\"\n",
        "s3 = \"Mentorship\"\n",
        "s4 = \"Program\"\n",
        "s5 = \"By\"\n",
        "s6 = \"CampusX\"\n",
        "\n",
        "print(s1,s2,s3,s4,s5,s6,sep='-')"
      ],
      "metadata": {
        "colab": {
          "base_uri": "https://localhost:8080/"
        },
        "id": "yDyBKMzbWUee",
        "outputId": "9db5eb0c-47ef-4584-8633-a98b91a6c4fe"
      },
      "execution_count": 40,
      "outputs": [
        {
          "output_type": "stream",
          "name": "stdout",
          "text": [
            "Data-Science-Mentorship-Program-By-CampusX\n"
          ]
        }
      ]
    },
    {
      "cell_type": "markdown",
      "source": [
        "# Q2:- Write a program that will convert celsius value to fahrenheit."
      ],
      "metadata": {
        "id": "59RrHW-_cfUn"
      }
    },
    {
      "cell_type": "code",
      "source": [
        "# Taking input in celsious from the user\n",
        "C = float(input(\"Enter celcious value: \"))\n",
        "#calculate fahrenheit from celsious using formula\n",
        "F = ((C*9)/5)+32\n",
        "#print the result\n",
        "print(F)"
      ],
      "metadata": {
        "colab": {
          "base_uri": "https://localhost:8080/"
        },
        "id": "FyAWat20btR7",
        "outputId": "1f8b5cf2-6ae7-45cf-f306-ecbde9ee6d00"
      },
      "execution_count": 41,
      "outputs": [
        {
          "output_type": "stream",
          "name": "stdout",
          "text": [
            "Enter celcious value: 12\n",
            "53.6\n"
          ]
        }
      ]
    },
    {
      "cell_type": "markdown",
      "source": [
        "# Q3:- Take 2 numbers as input from the user.Write a program to swap the numbers without using any special python syntax."
      ],
      "metadata": {
        "id": "XFIUMBt6c9FY"
      }
    },
    {
      "cell_type": "code",
      "source": [
        "#Take the input from the user\n",
        "Num_A = int(input(\"Enter first number: \"))\n",
        "Num_B = int(input(\"Enter second number: \"))\n",
        "print(\"Numbers before swap\")\n",
        "print(\"Num_A: \", Num_A)\n",
        "print(\"Num_B: \", Num_B)\n",
        "\n",
        "#swap the number\n",
        "temp = Num_A\n",
        "Num_A = Num_B\n",
        "Num_B = temp\n",
        "\n",
        "#print the number\n",
        "print(\"Numbers after swap\")\n",
        "print(\"Num_A: \", Num_A)\n",
        "print(\"Num_B: \", Num_B)"
      ],
      "metadata": {
        "colab": {
          "base_uri": "https://localhost:8080/"
        },
        "id": "A7zR-XDqc5Eh",
        "outputId": "998644c9-cc2a-43e5-e624-2f6dc9a45733"
      },
      "execution_count": 46,
      "outputs": [
        {
          "output_type": "stream",
          "name": "stdout",
          "text": [
            "Enter first number: 12\n",
            "Enter second number: 21\n",
            "Numbers before swap\n",
            "Num_A:  12\n",
            "Num_B:  21\n",
            "Numbers after swap\n",
            "Num_A:  21\n",
            "Num_B:  12\n"
          ]
        }
      ]
    },
    {
      "cell_type": "markdown",
      "source": [
        "# Q4:- Write a program to find the euclidean distance between two coordinates.Take both the coordinates from the user as input."
      ],
      "metadata": {
        "id": "FUJBp6kbdnxj"
      }
    },
    {
      "cell_type": "code",
      "source": [
        "#Take first coordinate from the user\n",
        "num1_x = float(input(\"Enter x value for first coordinate: \"))\n",
        "num1_y = float(input(\"Enter y value for first coordinate: \"))\n",
        "\n",
        "#Take first coordinate from the user\n",
        "num2_x = float(input(\"Enter x value for second coordinate: \"))\n",
        "num2_y = float(input(\"Enter y value for second coordinate: \"))\n",
        "\n",
        "#calculate euclidean distance\n",
        "a = (num1_x - num2_x) ** 2\n",
        "b = (num1_y - num2_y) ** 2\n",
        "distance = (a + b) ** 0.5\n",
        "print(f\"Euclidean distance of the coordinates are: {distance: .2f}\")"
      ],
      "metadata": {
        "colab": {
          "base_uri": "https://localhost:8080/"
        },
        "id": "9pROiokAdDN4",
        "outputId": "191448b4-7787-4dba-dc82-57e1975c65fc"
      },
      "execution_count": 47,
      "outputs": [
        {
          "output_type": "stream",
          "name": "stdout",
          "text": [
            "Enter x value for first coordinate: 3\n",
            "Enter y value for first coordinate: 2\n",
            "Enter x value for second coordinate: 5\n",
            "Enter y value for second coordinate: 4\n",
            "Euclidean distance of the coordinates are:  2.83\n"
          ]
        }
      ]
    },
    {
      "cell_type": "markdown",
      "source": [
        "# Q5:- Write a program to find the simple interest when the value of principle,rate of interest and time period is provided by the user."
      ],
      "metadata": {
        "id": "9stwgbbCg2ED"
      }
    },
    {
      "cell_type": "code",
      "source": [
        "#take input for principle, interest_rate and time_period\n",
        "Principle = float(input(\"Enter the amount of principle:\"))# P\n",
        "interest_rate = float(input(\"Enter the interest rate:\"))# r\n",
        "time_period = float(input(\"Enter duration of time in years:\")) # n\n",
        "\n",
        "#calculate interest with the formula I = P * r * n\n",
        "interest = Principle * interest_rate * time_period\n",
        "\n",
        "#print the calculated result\n",
        "print(\"Interest over Principle is: \", interest)"
      ],
      "metadata": {
        "colab": {
          "base_uri": "https://localhost:8080/"
        },
        "id": "rkBxc2VkdzCD",
        "outputId": "0e4c6325-8cf4-4d86-f439-2d8656e52340"
      },
      "execution_count": 48,
      "outputs": [
        {
          "output_type": "stream",
          "name": "stdout",
          "text": [
            "Enter the amount of principle:120000\n",
            "Enter the interest rate:12.4\n",
            "Enter duration of time in years:3\n",
            "Interest over Principle is:  4464000.0\n"
          ]
        }
      ]
    },
    {
      "cell_type": "markdown",
      "source": [
        "# Q6:- Write a program that will tell the number of dogs and chicken are there when the user will provide the value of total heads and legs.\n",
        "For example: Input: heads -> 4 legs -> 12\n",
        "\n",
        "Output: dogs -> 2 chicken -> 2"
      ],
      "metadata": {
        "id": "XH48s7tU2lTc"
      }
    },
    {
      "cell_type": "code",
      "source": [
        "#take input from the user\n",
        "Total_heads = int(input(\"Enter the number of heads: \"))\n",
        "num_legs = int(input(\"Enter the number of legs: \"))\n",
        "\n",
        "#calculate the number of dogs and chickens\n",
        "dogs = Total_heads\n",
        "chickens = 0\n",
        "\n",
        "a = (dogs * 4) + (chickens * 2)\n",
        "while a != num_legs:\n",
        "  #print(a)\n",
        "  dogs = dogs - 1;\n",
        "  chickens += 1;\n",
        "  a = (dogs * 4) + (chickens * 2)\n",
        "\n",
        "print(\"Number of dogs are: \",dogs)\n",
        "print(\"Number of chickens are: \",chickens)"
      ],
      "metadata": {
        "colab": {
          "base_uri": "https://localhost:8080/"
        },
        "id": "oPbD3tuyg-G1",
        "outputId": "bd2feeb1-d434-4567-e28e-54a8c9bd82f6"
      },
      "execution_count": 50,
      "outputs": [
        {
          "output_type": "stream",
          "name": "stdout",
          "text": [
            "Enter the number of heads: 7\n",
            "Enter the number of legs: 20\n",
            "Number of dogs are:  3\n",
            "Number of chickens are:  4\n"
          ]
        }
      ]
    },
    {
      "cell_type": "markdown",
      "source": [
        "# Q7:- Write a program to find the sum of squares of first n natural numbers where n will be provided by the user."
      ],
      "metadata": {
        "id": "bFo6quFg49eF"
      }
    },
    {
      "cell_type": "code",
      "source": [
        "#Take input from the user for the number\n",
        "Num = int(input(\"Enter the number: \"))\n",
        "Sum_of_square = 0\n",
        "\n",
        "#calculate the sum of squares\n",
        "for i in range(Num+1):\n",
        "  Sum_of_square += (i ** 2);\n",
        "\n",
        "print(\"The sum of squares of first N natural numbers is: \",Sum_of_square)"
      ],
      "metadata": {
        "colab": {
          "base_uri": "https://localhost:8080/"
        },
        "id": "GyI9Kq7T4ks5",
        "outputId": "16ba08d8-d92d-442e-e762-ea4f23181dd8"
      },
      "execution_count": 57,
      "outputs": [
        {
          "output_type": "stream",
          "name": "stdout",
          "text": [
            "Enter the number: 21\n",
            "The sum of squares of first N natural numbers is:  3311\n"
          ]
        }
      ]
    },
    {
      "cell_type": "markdown",
      "source": [
        "# Q8:- Given the first 2 terms of an Arithmetic Series.Find the Nth term of the series. Assume all inputs are provided by the user."
      ],
      "metadata": {
        "id": "eu2yZ_xO56cZ"
      }
    },
    {
      "cell_type": "code",
      "source": [
        "#take first two number from the user\n",
        "Num_1 = int(input(\"Enter 1st number: \"))\n",
        "Num_2 = int(input(\"Enter 2nd number: \"))\n",
        "#take N'th term to be find\n",
        "N = int(input(\"Enter position of n'th terms: \"))\n",
        "\n",
        "#calculate and find n'th terms assuming it's a parallel series\n",
        "difference = Num_2 - Num_1\n",
        "n_th_term = Num_1 + (N - 1) * difference\n",
        "print(\"N'th term for linear series is: \",n_th_term)\n",
        "\n",
        "#calculate and find n'th terms assuming it's a Qualifying clause\n",
        "Ratio = Num_2 / Num_1\n",
        "if Ratio == int(Ratio):\n",
        "  n_th_term = Num_1 * (Ratio ** (N - 1))\n",
        "  print(\"N'th term for linear series is: \",n_th_term)"
      ],
      "metadata": {
        "colab": {
          "base_uri": "https://localhost:8080/"
        },
        "id": "j2IuUVE55blN",
        "outputId": "b3c7d169-3673-45dc-b6b1-e697113a1c62"
      },
      "execution_count": 61,
      "outputs": [
        {
          "output_type": "stream",
          "name": "stdout",
          "text": [
            "Enter 1st number: 3\n",
            "Enter 2nd number: 5\n",
            "Enter position of n'th terms: 5\n",
            "N'th term for linear series is:  11\n"
          ]
        }
      ]
    },
    {
      "cell_type": "markdown",
      "source": [
        "# Q9:- Given 2 fractions, find the sum of those 2 fractions.Take the numerator and denominator values of the fractions from the user."
      ],
      "metadata": {
        "id": "xvGizuES9aRF"
      }
    },
    {
      "cell_type": "code",
      "source": [
        "#take the input for first fraction\n",
        "Nume_x1 = int(input(\"Enter numerator for 1st fraction: \"))\n",
        "deno_y1 = int(input(\"Enter denominator for 1st fraction: \"))\n",
        "\n",
        "#take the input for second fraction\n",
        "Nume_x2 = int(input(\"Enter numerator for 2nd fraction: \"))\n",
        "deno_y2 = int(input(\"Enter denominator for 2nd fraction: \"))\n",
        "\n",
        "#Add the fractions\n",
        "Sum = ((Nume_x1*deno_y2) + (Nume_x2 * deno_y1))/(deno_y1 * deno_y2)\n",
        "print(f\"Sum of the fractions are: {Sum: .2f}\")"
      ],
      "metadata": {
        "colab": {
          "base_uri": "https://localhost:8080/"
        },
        "id": "g70rfRX394XH",
        "outputId": "495bcf3f-05df-4095-fcb3-268b8d065815"
      },
      "execution_count": 67,
      "outputs": [
        {
          "output_type": "stream",
          "name": "stdout",
          "text": [
            "Enter numerator for 1st fraction: 2\n",
            "Enter denominator for 1st fraction: 3\n",
            "Enter numerator for 2nd fraction: 4\n",
            "Enter denominator for 2nd fraction: 5\n",
            "Sum of the fractions are:  1.47\n"
          ]
        }
      ]
    },
    {
      "cell_type": "markdown",
      "source": [
        "# Q10:- Given the height, width and breadth of a milk tank, you have to find out how many glasses of milk can be obtained? Assume all the inputs are provided by the user.\n",
        "\n",
        "Input:\n",
        "Dimensions of the milk tank\n",
        "\n",
        "H = 20cm, L = 20cm, B = 20cm\n",
        "\n",
        "3\n",
        "Dimensions of the glass\n",
        "\n",
        "h = 3cm, r = 1cm"
      ],
      "metadata": {
        "id": "vRe-8sLx9rMW"
      }
    },
    {
      "cell_type": "code",
      "source": [
        "#take the input for tank\n",
        "Height = int(input(\"Enter the height of the tank: \"))\n",
        "Lenght = int(input(\"Enter the lenght of the tank: \"))\n",
        "Width = int(input(\"Enter the width of the tank: \"))\n",
        "\n",
        "# take the input for glass\n",
        "Height_glass = int(input(\"Enter the height of the glass: \"))\n",
        "Redious_glass = int(input(\"Enter the redious of the glass: \"))\n",
        "\n",
        "#calculate the volume of the tank\n",
        "Volume_of_tank = Height * Lenght * Width\n",
        "\n",
        "#calculate the volume of glass\n",
        "Volume_of_glass = 3.14159 * (Redious_glass ** 2) * Height_glass\n",
        "\n",
        "#calculate the total number of glasses can be fill\n",
        "Total_number_of_glasses = Volume_of_tank / Volume_of_glass\n",
        "\n",
        "print(\"Number of glasses totally can be filled are: \",int(Total_number_of_glasses))"
      ],
      "metadata": {
        "colab": {
          "base_uri": "https://localhost:8080/"
        },
        "id": "IKE0mKdo7TYP",
        "outputId": "34b519be-6890-4edd-bd1e-78f815b5457f"
      },
      "execution_count": 64,
      "outputs": [
        {
          "output_type": "stream",
          "name": "stdout",
          "text": [
            "Enter the height of the tank: 20\n",
            "Enter the lenght of the tank: 20\n",
            "Enter the width of the tank: 20\n",
            "Enter the height of the glass: 3\n",
            "Enter the redious of the glass: 1\n",
            "Number of glasses totally can be filled are:  848\n"
          ]
        }
      ]
    },
    {
      "cell_type": "code",
      "source": [],
      "metadata": {
        "id": "JjBWQYSN_tOi"
      },
      "execution_count": null,
      "outputs": []
    }
  ]
}