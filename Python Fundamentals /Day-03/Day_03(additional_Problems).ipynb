{
  "nbformat": 4,
  "nbformat_minor": 0,
  "metadata": {
    "colab": {
      "provenance": [],
      "authorship_tag": "ABX9TyM2WSYhMejvm+sfUouSbN/r",
      "include_colab_link": true
    },
    "kernelspec": {
      "name": "python3",
      "display_name": "Python 3"
    },
    "language_info": {
      "name": "python"
    }
  },
  "cells": [
    {
      "cell_type": "markdown",
      "metadata": {
        "id": "view-in-github",
        "colab_type": "text"
      },
      "source": [
        "<a href=\"https://colab.research.google.com/github/Sha-diya/Road-to-Data-Science-/blob/main/Python%20Fundamentals%20/Day-03/Day_03(additional_Problems).ipynb\" target=\"_parent\"><img src=\"https://colab.research.google.com/assets/colab-badge.svg\" alt=\"Open In Colab\"/></a>"
      ]
    },
    {
      "cell_type": "code",
      "execution_count": 2,
      "metadata": {
        "colab": {
          "base_uri": "https://localhost:8080/"
        },
        "id": "ZRCm7THoD-Pm",
        "outputId": "c38da256-a746-414c-d8a0-86c6c37c6dc4"
      },
      "outputs": [
        {
          "output_type": "stream",
          "name": "stdout",
          "text": [
            "Enter the string: This is me shadia\n",
            "Length of the string This is me shadia is 17\n"
          ]
        }
      ],
      "source": [
        "# find the lentgh of a given string without using len() function\n",
        "Str = input(\"Enter the string: \")\n",
        "\n",
        "Length = 0\n",
        "for i in Str:\n",
        "  Length += 1\n",
        "\n",
        "print(f\"Length of the string {Str} is {Length}\")"
      ]
    },
    {
      "cell_type": "code",
      "source": [
        "# Extract user name from email\n",
        "# like shadia@gmail.com to shadia\n",
        "\n",
        "email = input(\"Enter your email: \")\n",
        "index = email.index('@')\n",
        "#print(index)\n",
        "print('User name is: ',email[:index])"
      ],
      "metadata": {
        "colab": {
          "base_uri": "https://localhost:8080/"
        },
        "id": "iZQYgEn-FPSt",
        "outputId": "15bcab65-9a0b-4c1a-e986-42e92be63bc5"
      },
      "execution_count": 6,
      "outputs": [
        {
          "output_type": "stream",
          "name": "stdout",
          "text": [
            "Enter your email: shadia@gmail.com\n",
            "User name is:  shadia\n"
          ]
        }
      ]
    },
    {
      "cell_type": "code",
      "source": [
        "# count the frequency of a perticular character in a given scentence\n",
        "scentence = input(\"Enter the scentence: \")\n",
        "word = input(\"Enter the character to find the frequency of: \")\n",
        "\n",
        "frequency = 0\n",
        "for i in scentence:\n",
        "  if i == word:\n",
        "    frequency += 1\n",
        "\n",
        "print(f\"{word} appers in {scentence}: {frequency} times\")\n"
      ],
      "metadata": {
        "colab": {
          "base_uri": "https://localhost:8080/"
        },
        "id": "QfVWqGOvF9od",
        "outputId": "3c9a3042-e7f8-4db2-f85a-01a5c365985e"
      },
      "execution_count": 8,
      "outputs": [
        {
          "output_type": "stream",
          "name": "stdout",
          "text": [
            "Enter the scentence: shadia\n",
            "Enter the character to find the frequency of: a\n",
            "a appers in shadia: 2 times\n"
          ]
        }
      ]
    },
    {
      "cell_type": "code",
      "source": [
        "# write a program which can remove a perticular character from a string\n",
        "scentence = input(\"Enter the scentence: \")\n",
        "word = input(\"Enter the character to remove: \")\n",
        "\n",
        "new_string = ''\n",
        "for i in scentence:\n",
        "  if i != word:\n",
        "    new_string += i\n",
        "\n",
        "print(f\"New string after removing {word} from {scentence} is : {new_string}\")"
      ],
      "metadata": {
        "colab": {
          "base_uri": "https://localhost:8080/"
        },
        "id": "p4XmKJAUHFWR",
        "outputId": "b12c9e56-6d38-44a7-aa3a-fd757d95c355"
      },
      "execution_count": 9,
      "outputs": [
        {
          "output_type": "stream",
          "name": "stdout",
          "text": [
            "Enter the scentence: shadia\n",
            "Enter the character to remove: a\n",
            "New string after removing a from shadia is : shdi\n"
          ]
        }
      ]
    },
    {
      "cell_type": "code",
      "source": [
        "# write a program to check that is the given string is palindrom or not\n",
        "scentence = input(\"Enter the scentence: \")\n",
        "\n",
        "length = len(scentence) // 2\n",
        "j = len(scentence)-1\n",
        "\n",
        "#print(length, j)\n",
        "f = 0\n",
        "for i in range(0,length):\n",
        "  #print(scentence[i], scentence[j])\n",
        "  if scentence[i] == scentence[j]:\n",
        "    j -= 1\n",
        "    continue\n",
        "  else:\n",
        "    f = 1\n",
        "    break\n",
        "\n",
        "if f == 1:\n",
        "  print(f\"{scentence} is not a Palindrom\")\n",
        "else:\n",
        "  print(f\"{scentence} is a Palindrom\")"
      ],
      "metadata": {
        "colab": {
          "base_uri": "https://localhost:8080/"
        },
        "id": "RsKM0vx7H0Oq",
        "outputId": "84e717c1-0ce0-419e-80d0-8a07a7bd6d02"
      },
      "execution_count": 15,
      "outputs": [
        {
          "output_type": "stream",
          "name": "stdout",
          "text": [
            "Enter the scentence: abcba\n",
            "abcba is a Palindrom\n"
          ]
        }
      ]
    },
    {
      "cell_type": "code",
      "source": [
        "# write a program to count the number of words without using split() function\n",
        "scentence = input(\"Enter the scentence: \")\n",
        "\n",
        "Num_words = 1\n",
        "for i in scentence:\n",
        "  if i == \" \":\n",
        "    Num_words += 1\n",
        "\n",
        "print(Num_words)"
      ],
      "metadata": {
        "colab": {
          "base_uri": "https://localhost:8080/"
        },
        "id": "mSK2pK4oI4tF",
        "outputId": "8029d286-fe69-4ddb-c8d0-adf377c4b72b"
      },
      "execution_count": 16,
      "outputs": [
        {
          "output_type": "stream",
          "name": "stdout",
          "text": [
            "Enter the scentence: this is shadia\n",
            "2\n"
          ]
        }
      ]
    },
    {
      "cell_type": "code",
      "source": [
        "# write a program to convert a string to titlecase without using title() function\n",
        "\n",
        "String = input(\"Enter the string: \")\n",
        "L = []\n",
        "\n",
        "for i in String.split():\n",
        "  L.append(i[0].upper() + i[1:].lower())\n",
        "\n",
        "\n",
        "\" \".join(L)"
      ],
      "metadata": {
        "colab": {
          "base_uri": "https://localhost:8080/",
          "height": 52
        },
        "id": "IUg-RAnGK-q2",
        "outputId": "17360855-1ce9-425f-ec87-1211c4661edd"
      },
      "execution_count": 23,
      "outputs": [
        {
          "name": "stdout",
          "output_type": "stream",
          "text": [
            "Enter the string: hi how are you\n"
          ]
        },
        {
          "output_type": "execute_result",
          "data": {
            "text/plain": [
              "'Hi How Are You'"
            ],
            "application/vnd.google.colaboratory.intrinsic+json": {
              "type": "string"
            }
          },
          "metadata": {},
          "execution_count": 23
        }
      ]
    },
    {
      "cell_type": "code",
      "source": [
        "# write a program to convert integer to string\n",
        "num = int(input(\"Enter the number: \"))\n",
        "\n",
        "String = '0123456789'\n",
        "result = ''\n",
        "while num != 0:\n",
        "  result = String[num % 10] + result\n",
        "  num //= 10\n",
        "\n",
        "print(result)\n",
        "print(type(result))"
      ],
      "metadata": {
        "colab": {
          "base_uri": "https://localhost:8080/"
        },
        "id": "EQNzmO2wNjBs",
        "outputId": "b4e02cca-22fc-4d3d-eb70-4e5190a0337d"
      },
      "execution_count": 26,
      "outputs": [
        {
          "output_type": "stream",
          "name": "stdout",
          "text": [
            "Enter the number: 123\n",
            "123\n",
            "<class 'str'>\n"
          ]
        }
      ]
    },
    {
      "cell_type": "code",
      "source": [],
      "metadata": {
        "id": "XgJ8uqiDPxDP"
      },
      "execution_count": null,
      "outputs": []
    }
  ]
}