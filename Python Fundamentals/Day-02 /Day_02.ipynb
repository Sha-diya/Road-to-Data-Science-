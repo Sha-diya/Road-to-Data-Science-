{
  "nbformat": 4,
  "nbformat_minor": 0,
  "metadata": {
    "colab": {
      "provenance": [],
      "authorship_tag": "ABX9TyOxZx7pg4bnJeBi+y9D84YZ",
      "include_colab_link": true
    },
    "kernelspec": {
      "name": "python3",
      "display_name": "Python 3"
    },
    "language_info": {
      "name": "python"
    }
  },
  "cells": [
    {
      "cell_type": "markdown",
      "metadata": {
        "id": "view-in-github",
        "colab_type": "text"
      },
      "source": [
        "<a href=\"https://colab.research.google.com/github/Sha-diya/Road-to-Data-Science-/blob/main/Python%20Fundamentals/Day-02%20/Day_02.ipynb\" target=\"_parent\"><img src=\"https://colab.research.google.com/assets/colab-badge.svg\" alt=\"Open In Colab\"/></a>"
      ]
    },
    {
      "cell_type": "markdown",
      "source": [
        "# Operators in python\n",
        "- Arithmetic Operator\n",
        "- Relational Operator\n",
        "- Logical Operator\n",
        "- Bitwise Operator\n",
        "- Assignment Operator\n",
        "- Membership Operator"
      ],
      "metadata": {
        "id": "aueBxzCqTmwT"
      }
    },
    {
      "cell_type": "code",
      "execution_count": null,
      "metadata": {
        "colab": {
          "base_uri": "https://localhost:8080/"
        },
        "id": "tFuIgFI9Kk9X",
        "outputId": "1dd58a0f-545e-4976-d9e1-4a9d26d53b6b"
      },
      "outputs": [
        {
          "output_type": "stream",
          "name": "stdout",
          "text": [
            "Addition:  6\n",
            "Subtraction:  2\n",
            "Multiplication:  8\n",
            "Division:  2.2\n",
            "Integer Division:  2\n",
            "Modulus:  1\n",
            "Power:  9\n"
          ]
        }
      ],
      "source": [
        "# Arithmetic Operator\n",
        "addition = 4 + 2\n",
        "print(\"Addition: \",addition)\n",
        "\n",
        "subtraction = 4 - 2\n",
        "print(\"Subtraction: \", subtraction)\n",
        "\n",
        "multiplication = 4 * 2\n",
        "print(\"Multiplication: \",multiplication)\n",
        "\n",
        "division = 11 / 5\n",
        "print(\"Division: \", division)\n",
        "\n",
        "integer_division = 11 // 5 # convert the result into integer if it is in decimal\n",
        "print(\"Integer Division: \",integer_division)\n",
        "\n",
        "modulus = 13 % 2 # return the reminder of the division\n",
        "print(\"Modulus: \", modulus)\n",
        "\n",
        "power = 3 ** 2 # retrun power of the base\n",
        "print(\"Power: \", power)"
      ]
    },
    {
      "cell_type": "code",
      "source": [
        "# Relational Operator\n",
        "print(\"4 is Greater than 5: \",4 > 5)\n",
        "print(\"4 is less than 5   : \",4 < 5)\n",
        "print(\"4 is greater than equal 5: \",4 >= 5)\n",
        "print(\"4 is less than equal 5   : \",4 <= 5)\n",
        "print(\"4 is equal to 5     : \",4 == 5)\n",
        "print(\"4 is not equalt to 5: \",4 != 5)"
      ],
      "metadata": {
        "colab": {
          "base_uri": "https://localhost:8080/"
        },
        "id": "X8zEbhs6VLWm",
        "outputId": "5afbf91a-d86c-4941-8070-726113bdeeb7"
      },
      "execution_count": null,
      "outputs": [
        {
          "output_type": "stream",
          "name": "stdout",
          "text": [
            "4 is Greater than 5:  False\n",
            "4 is less than 5   :  True\n",
            "4 is greater than equal 5:  False\n",
            "4 is less than equal 5   :  True\n",
            "4 is equal to 5     :  False\n",
            "4 is not equalt to 5:  True\n"
          ]
        }
      ]
    },
    {
      "cell_type": "code",
      "source": [
        "# Logical Operator -- and, or, not\n",
        "print(\"Logical and: \", 1 and 0) # the result will be 1 if both the input is 1\n",
        "\n",
        "print(\"Logical or: \", 1 or 0) # the result will be 1 if any of the input is 1\n",
        "\n",
        "print(\"Logical not: \", not 1) # convert (1 -> 0) and (0 -> 1)\n"
      ],
      "metadata": {
        "colab": {
          "base_uri": "https://localhost:8080/"
        },
        "id": "3p0SC-gUV_ds",
        "outputId": "e3d2169b-46e7-433b-ebe4-c9f5336803a2"
      },
      "execution_count": null,
      "outputs": [
        {
          "output_type": "stream",
          "name": "stdout",
          "text": [
            "Logical and:  0\n",
            "Logical or:  1\n",
            "Logical not:  False\n"
          ]
        }
      ]
    },
    {
      "cell_type": "code",
      "source": [
        "# Bitwise Operator -- operate on binary operand\n",
        "#bitwise and\n",
        "print(\"Bitwise and: \",2 & 3) # if both bits are 1 the output will be 1\n",
        "#\n",
        "# 2 --> 0010\n",
        "# 3 --> 0011\n",
        "# -------------\n",
        "# (&)-->0010(2)\n",
        "#\n",
        "\n",
        "#bitwise or\n",
        "print(\"Bitwise or: \",2 | 3) # if any bits are 1  the output will be 1\n",
        "#\n",
        "# 2 --> 0010\n",
        "# 3 --> 0011\n",
        "# -------------\n",
        "# (|)-->0011(3)\n",
        "#\n",
        "\n",
        "#bitwise xor\n",
        "print(\"Bitwise XOR: \",2 ^ 3) # if both bits are different the output will be 1\n",
        "#\n",
        "# 2 --> 0010\n",
        "# 3 --> 0011\n",
        "# -------------\n",
        "# (^)-->0001(1)\n",
        "#\n",
        "\n",
        "#bitwise not ~\n",
        "print(\"Bitwise not: \",~3) # change the bits in binary representaions 1 to 0 and 0 to 1\n",
        "\n",
        "#bitwise left shift\n",
        "print(\"Bitwise left shift: \",4 >> 2) # shift the bits to the left in binary representation\n",
        "\n",
        "#bitwise right shift\n",
        "print(\"Bitwise right shift\",4 << 2) # shift the bits to the right in binary representation"
      ],
      "metadata": {
        "colab": {
          "base_uri": "https://localhost:8080/"
        },
        "id": "RswW-JMsXxZW",
        "outputId": "1311f275-5326-4624-eb5f-91b1dc156277"
      },
      "execution_count": null,
      "outputs": [
        {
          "output_type": "stream",
          "name": "stdout",
          "text": [
            "Bitwise and:  2\n",
            "Bitwise or:  3\n",
            "Bitwise XOR:  1\n",
            "Bitwise not:  -4\n",
            "Bitwise left shift:  1\n",
            "Bitwise right shift 16\n"
          ]
        }
      ]
    },
    {
      "cell_type": "code",
      "source": [
        "# Assignment Operators\n",
        "# assign a value to a variable\n",
        "Name = \"Shadia\"\n",
        "Weight = 45\n",
        "Num = 12\n",
        "Num += 8 # Num = Num + 8\n",
        "\n",
        "print(Num)"
      ],
      "metadata": {
        "colab": {
          "base_uri": "https://localhost:8080/"
        },
        "id": "k7a8VLu6ZCBO",
        "outputId": "8542d4b2-7e39-40b6-ff09-9e1a49dbc7f0"
      },
      "execution_count": null,
      "outputs": [
        {
          "output_type": "stream",
          "name": "stdout",
          "text": [
            "20\n"
          ]
        }
      ]
    },
    {
      "cell_type": "code",
      "source": [
        "# Membership Operators\n",
        "# in --> is any value exists\n",
        "print(\"B is in the word Bangladesh: \",'B' in 'Bangladesh')\n",
        "print(\"1 is in the list [2,3,4,5]: \",1 in [2,3,4,5])\n",
        "\n",
        "# not in --> is any value doesn't exists\n",
        "print(\"B is not in the word Bangladesh: \",'B' not in 'Bangladesh')"
      ],
      "metadata": {
        "colab": {
          "base_uri": "https://localhost:8080/"
        },
        "id": "X1j0RZW0bVMc",
        "outputId": "30286de0-4741-46d4-d2cc-c2efe5d5ae13"
      },
      "execution_count": null,
      "outputs": [
        {
          "output_type": "stream",
          "name": "stdout",
          "text": [
            "B is in the word Bangladesh:  True\n",
            "1 is in the list [2,3,4,5]:  False\n",
            "B is not in the word Bangladesh:  False\n"
          ]
        }
      ]
    },
    {
      "cell_type": "code",
      "source": [
        "#Q1. Find the sum of a 3 digit number inter by the user\n",
        "#take input from the user\n",
        "Num = int(input(\"Enter a 3 digit number: \"))\n",
        "a = Num\n",
        "Result = 0\n",
        "# calculate the result of the number using a loop\n",
        "while Num > 0:\n",
        "  Result += (Num%10)\n",
        "  Num //= 10\n",
        "\n",
        "#print the result\n",
        "print(f\"Result of {a} is {Result}\")"
      ],
      "metadata": {
        "colab": {
          "base_uri": "https://localhost:8080/"
        },
        "id": "iYSaeoI6cMr_",
        "outputId": "90b2fd8a-2671-4cf9-fbc5-c658ebd9eb10"
      },
      "execution_count": null,
      "outputs": [
        {
          "output_type": "stream",
          "name": "stdout",
          "text": [
            "Enter a 3 digit number: 123\n",
            "Result of 123 is 6\n"
          ]
        }
      ]
    },
    {
      "cell_type": "markdown",
      "source": [
        "# If-else in python"
      ],
      "metadata": {
        "id": "u-D-NFXYfKj7"
      }
    },
    {
      "cell_type": "code",
      "source": [
        "# if-else help to handle brancing(Any assumption of unexpected vehaviors) in the program\n",
        "# create a log in program provided with the user input username and password\n",
        "# we assume the there have only onle user name and password\n",
        "user_name1 = \"shadia\" # assume\n",
        "password1 = \"12321\"\n",
        "\n",
        "user_name = input(\"Enter user name: \")\n",
        "password = input(\"Enter password: \")\n",
        "\n",
        "#check if the user name and password is correct or not\n",
        "if user_name == user_name1 and password == password1:#if password and user_name is correct\n",
        "  print(\"Log in success\")\n",
        "elif user_name == user_name1 and password != password1: #if user_name is correct but password is wrong\n",
        "  print(\"Incorrect password\")\n",
        "  password = input(\"Enter password again: \")# take input again for password and recheck\n",
        "  if password == password1:\n",
        "    print(\"Log in success\")\n",
        "  else:\n",
        "    print(\"Log in denied\")\n",
        "else:\n",
        "  print(\"Log in denied\")"
      ],
      "metadata": {
        "colab": {
          "base_uri": "https://localhost:8080/"
        },
        "id": "MDGspIPUeHl2",
        "outputId": "b2db8705-38ee-48eb-ccbd-f164573ed8b6"
      },
      "execution_count": null,
      "outputs": [
        {
          "output_type": "stream",
          "name": "stdout",
          "text": [
            "Enter user name: shadia\n",
            "Enter password: 1111\n",
            "Incorrect password\n",
            "Enter password again: 1231\n",
            "Log in denied\n"
          ]
        }
      ]
    },
    {
      "cell_type": "code",
      "source": [
        "# if-else examples\n",
        "# 1. find minimum/ maximum from 3 number\n",
        "#Take input from user\n",
        "num_a = int(input(\"enter first number: \"))\n",
        "num_b = int(input(\"enter second number: \"))\n",
        "num_c = int(input(\"enter third number: \"))\n",
        "\n",
        "if num_a < num_b and num_a < num_c: # see if a is smallest\n",
        "  print(\"Minimum number is: \", num_a)\n",
        "elif num_b < num_a and num_b < num_c: # see if b is smallest\n",
        "  print(\"Minimum number is: \", num_b)\n",
        "else:\n",
        "  print(\"Minimum number is: \", num_c) # if a and b is not smallest then c is the smallest\n"
      ],
      "metadata": {
        "colab": {
          "base_uri": "https://localhost:8080/"
        },
        "id": "StgyIosNgs7A",
        "outputId": "8bd2bcf2-2e1c-46a7-bc27-62aba27d9af4"
      },
      "execution_count": null,
      "outputs": [
        {
          "output_type": "stream",
          "name": "stdout",
          "text": [
            "enter first number: 2\n",
            "enter second number: 1\n",
            "enter third number: 2\n",
            "Minimum number is:  1\n"
          ]
        }
      ]
    },
    {
      "cell_type": "code",
      "source": [
        "# 2. menu driven calculator\n",
        "num_1 = int(input(\"Enter 1st number: \"))\n",
        "num_2 = int(input(\"Enter 2nd number: \"))\n",
        "operation = input(\"Enter operation to perform on the numbers: \")\n",
        "\n",
        "if operation == '+':\n",
        "  print(\"Addition: \", num_1 + num_2)\n",
        "elif operation =='-':\n",
        "  print(\"Subtraction: \", num_1 - num_2)\n",
        "elif operation =='*':\n",
        "  print(\"Multiplication: \", num_1 * num_2)\n",
        "elif operation =='/':\n",
        "  print(\"Division: \", num_1 / num_2)\n",
        "else:\n",
        "  print(\"Invalid operation\")"
      ],
      "metadata": {
        "colab": {
          "base_uri": "https://localhost:8080/"
        },
        "id": "2TtwPUalJZiA",
        "outputId": "b869f300-f171-4bdc-a189-df1ce30e2518"
      },
      "execution_count": null,
      "outputs": [
        {
          "output_type": "stream",
          "name": "stdout",
          "text": [
            "Enter 1st number: 12\n",
            "Enter 2nd number: 11\n",
            "Enter operation to perform on the numbers: +\n",
            "Addition:  23\n"
          ]
        }
      ]
    },
    {
      "cell_type": "code",
      "source": [
        "# menu driven atm system (disply)\n",
        "menu = input(\"\"\"\n",
        "Hi! How can I help you?\n",
        "1. Enter 1 for change pin\n",
        "2. Enter 2 for balance check\n",
        "3. Enter 3 for withdrawl\n",
        "4. Enter 4 for Exit\n",
        "\"\"\")\n",
        "\n",
        "if menu == '1':\n",
        "  print(\"Pin changed!\")\n",
        "elif menu == '2':\n",
        "  print(\"The amount of balance in the account is *****$\")\n",
        "elif menu == '3':\n",
        "  print(\"Money withdrawed\")\n",
        "elif menu == '4':\n",
        "  print(\"Exit\")\n",
        "else:\n",
        "  print(\"Incorrect Menu\")"
      ],
      "metadata": {
        "colab": {
          "base_uri": "https://localhost:8080/"
        },
        "id": "d2jo-t_EK3cb",
        "outputId": "ff210e81-68ab-46eb-fbad-64cccc0bf6cd"
      },
      "execution_count": null,
      "outputs": [
        {
          "output_type": "stream",
          "name": "stdout",
          "text": [
            "\n",
            "Hi! How can I help you?\n",
            "1. Enter 1 for change pin\n",
            "2. Enter 2 for balance check\n",
            "3. Enter 3 for withdrawl\n",
            "4. Enter 4 for Exit\n",
            "2\n",
            "The amount of balance in the account is *****$\n"
          ]
        }
      ]
    },
    {
      "cell_type": "markdown",
      "source": [
        "# Modules in python\n",
        "- math\n",
        "- keywords\n",
        "- random\n",
        "- Date time\n"
      ],
      "metadata": {
        "id": "QfmHZyuaMXC8"
      }
    },
    {
      "cell_type": "code",
      "source": [
        "# Math -- All the math function\n",
        "import math\n",
        "\n",
        "print(math.ceil(12.22))\n",
        "print(math.factorial(5))\n",
        "print(math.sqrt(169))"
      ],
      "metadata": {
        "colab": {
          "base_uri": "https://localhost:8080/"
        },
        "id": "JdOOwjqmLs2J",
        "outputId": "8a3eea42-263e-4c8d-d614-b71d0c20bc6c"
      },
      "execution_count": null,
      "outputs": [
        {
          "output_type": "stream",
          "name": "stdout",
          "text": [
            "13\n",
            "120\n",
            "13.0\n"
          ]
        }
      ]
    },
    {
      "cell_type": "code",
      "source": [
        "# keyword\n",
        "import keyword\n",
        "keyword.kwlist # all the keywords in python"
      ],
      "metadata": {
        "colab": {
          "base_uri": "https://localhost:8080/"
        },
        "id": "cKSGAMDDVn5m",
        "outputId": "659db7d8-e6c8-432e-8dec-520fe3fd33e5"
      },
      "execution_count": null,
      "outputs": [
        {
          "output_type": "execute_result",
          "data": {
            "text/plain": [
              "['False',\n",
              " 'None',\n",
              " 'True',\n",
              " 'and',\n",
              " 'as',\n",
              " 'assert',\n",
              " 'async',\n",
              " 'await',\n",
              " 'break',\n",
              " 'class',\n",
              " 'continue',\n",
              " 'def',\n",
              " 'del',\n",
              " 'elif',\n",
              " 'else',\n",
              " 'except',\n",
              " 'finally',\n",
              " 'for',\n",
              " 'from',\n",
              " 'global',\n",
              " 'if',\n",
              " 'import',\n",
              " 'in',\n",
              " 'is',\n",
              " 'lambda',\n",
              " 'nonlocal',\n",
              " 'not',\n",
              " 'or',\n",
              " 'pass',\n",
              " 'raise',\n",
              " 'return',\n",
              " 'try',\n",
              " 'while',\n",
              " 'with',\n",
              " 'yield']"
            ]
          },
          "metadata": {},
          "execution_count": 17
        }
      ]
    },
    {
      "cell_type": "code",
      "source": [
        "# random\n",
        "import random\n",
        "print(random.randint(1,100))"
      ],
      "metadata": {
        "colab": {
          "base_uri": "https://localhost:8080/"
        },
        "id": "J_4n25HFWNus",
        "outputId": "d5d62fd2-e202-4a96-973c-9fbc0d5e186b"
      },
      "execution_count": null,
      "outputs": [
        {
          "output_type": "stream",
          "name": "stdout",
          "text": [
            "28\n"
          ]
        }
      ]
    },
    {
      "cell_type": "code",
      "source": [
        "# Date time\n",
        "import datetime\n",
        "print(datetime.datetime.now())"
      ],
      "metadata": {
        "colab": {
          "base_uri": "https://localhost:8080/"
        },
        "id": "nrYnPDCeWYQZ",
        "outputId": "0eb82f1f-4c1f-4c37-c8cf-39012fefeb45"
      },
      "execution_count": null,
      "outputs": [
        {
          "output_type": "stream",
          "name": "stdout",
          "text": [
            "2025-03-15 15:09:51.073154\n"
          ]
        }
      ]
    },
    {
      "cell_type": "code",
      "source": [
        "help('modules') # return all the modules of python"
      ],
      "metadata": {
        "id": "xCkCsFiGWlXC"
      },
      "execution_count": null,
      "outputs": []
    },
    {
      "cell_type": "markdown",
      "source": [
        "# Loops\n",
        "- for loop\n",
        "- while loop"
      ],
      "metadata": {
        "id": "UmOhTLbtXVtl"
      }
    },
    {
      "cell_type": "code",
      "source": [
        "# what is loop\n",
        "# a piece of code that perform same task multiple time based on a given condition\n",
        "# print a multiplication table using while loop\n",
        "# take input from user\n",
        "number = int(input(\"Enter the number: \"))\n",
        "\n",
        "i = 1\n",
        "# perform calculation for multiplication\n",
        "while i < 11:\n",
        "  print(f\"{number} * {i} = {number * i}\")\n",
        "  i += 1"
      ],
      "metadata": {
        "colab": {
          "base_uri": "https://localhost:8080/"
        },
        "id": "5X3FFmPtXOEq",
        "outputId": "7a91c3c0-de6e-44fb-f0c2-6e2a2253743e"
      },
      "execution_count": null,
      "outputs": [
        {
          "output_type": "stream",
          "name": "stdout",
          "text": [
            "Enter the number: 11\n",
            "11 * 1 = 11\n",
            "11 * 2 = 22\n",
            "11 * 3 = 33\n",
            "11 * 4 = 44\n",
            "11 * 5 = 55\n",
            "11 * 6 = 66\n",
            "11 * 7 = 77\n",
            "11 * 8 = 88\n",
            "11 * 9 = 99\n",
            "11 * 10 = 110\n"
          ]
        }
      ]
    },
    {
      "cell_type": "code",
      "source": [
        "# while loop with else\n",
        "\n",
        "x = 1\n",
        "while x < 5:\n",
        "  print(x)\n",
        "  x += 1\n",
        "\n",
        "else:\n",
        "  print(\"Limit exit\")"
      ],
      "metadata": {
        "colab": {
          "base_uri": "https://localhost:8080/"
        },
        "id": "P3tKXle1oM7h",
        "outputId": "5c5f01d8-ed34-4d37-8ba7-2f25b7a08515"
      },
      "execution_count": null,
      "outputs": [
        {
          "output_type": "stream",
          "name": "stdout",
          "text": [
            "1\n",
            "2\n",
            "3\n",
            "4\n",
            "Limit exit\n"
          ]
        }
      ]
    },
    {
      "cell_type": "code",
      "source": [
        "# make a gussing game where a user will gusse a number to have a pregenerated number\n",
        "# generate random number\n",
        "import random\n",
        "jackpot = random.randint(1,100)\n",
        "\n",
        "\n",
        "# let the user to guess the number\n",
        "user_guess = int(input(\"Choose a number between 1 and 1000: \"))\n",
        "number_of_gusses = 1\n",
        "\n",
        "while user_guess != jackpot:\n",
        "  if user_guess < jackpot:\n",
        "    print(\"Guess higher\")\n",
        "    user_guess = int(input(f\"Choose a number higher than {user_guess}: \"))\n",
        "  elif user_guess > jackpot:\n",
        "    print(\"Guess lower\")\n",
        "    user_guess = int(input(f\"Choose a number lower than {user_guess}: \"))\n",
        "  number_of_gusses += 1\n",
        "\n",
        "else:\n",
        "  print(f\"You hit the jackpot which is {jackpot} and you need {number_of_gusses}\")\n",
        "\n"
      ],
      "metadata": {
        "colab": {
          "base_uri": "https://localhost:8080/"
        },
        "id": "zdFIb9wIYxOT",
        "outputId": "104a3e64-dd38-4677-a0d2-f092cc222de3"
      },
      "execution_count": null,
      "outputs": [
        {
          "output_type": "stream",
          "name": "stdout",
          "text": [
            "Choose a number between 1 and 1000: 51\n",
            "Guess lower\n",
            "Choose a number lower than 51: 40\n",
            "Guess lower\n",
            "Choose a number lower than 40: 20\n",
            "Guess higher\n",
            "Choose a number higher than 20: 30\n",
            "Guess higher\n",
            "Choose a number higher than 30: 45\n",
            "Guess lower\n",
            "Choose a number lower than 45: 44\n",
            "Guess lower\n",
            "Choose a number lower than 44: 35\n",
            "Guess higher\n",
            "Choose a number higher than 35: 39\n",
            "Guess lower\n",
            "Choose a number lower than 39: 38\n",
            "Guess lower\n",
            "Choose a number lower than 38: 37\n",
            "Guess lower\n",
            "Choose a number lower than 37: 36\n",
            "You hit the jackpot which is 36 and you need 11\n"
          ]
        }
      ]
    },
    {
      "cell_type": "code",
      "source": [
        "# for loop\n",
        "# print 1 to 10 with step size 1\n",
        "for i in range(1,11):\n",
        "  print(i, end=' ')\n",
        "\n",
        "print('\\nwith step size 2')\n",
        "for i in range(1,12,2):\n",
        "  print(i,end=' ')\n",
        "\n",
        "#reverse\n",
        "print(\"\\nReverse:\")\n",
        "for i in range(11,1,-1):\n",
        "  print(i,end=' ')"
      ],
      "metadata": {
        "colab": {
          "base_uri": "https://localhost:8080/"
        },
        "id": "4f1ZcuyEqR6X",
        "outputId": "f022993c-73eb-4056-e538-7995730170f4"
      },
      "execution_count": null,
      "outputs": [
        {
          "output_type": "stream",
          "name": "stdout",
          "text": [
            "1 2 3 4 5 6 7 8 9 10 \n",
            "with step size 2\n",
            "1 3 5 7 9 11 \n",
            "Reverse:\n",
            "11 10 9 8 7 6 5 4 3 2 "
          ]
        }
      ]
    },
    {
      "cell_type": "markdown",
      "source": [
        "# Question 1: The current population of a town is 10000. The population of this town is increasing at the rate of 10% per year. You have to write a program to find out the population at the end of the last 10 years\n"
      ],
      "metadata": {
        "id": "SrbSY4h6t5SM"
      }
    },
    {
      "cell_type": "code",
      "source": [
        "# given parameters\n",
        "population = 10000\n",
        "increasing_rate = 0.1\n",
        "duration = 10\n",
        "\n",
        "# x * 10%x = 10000 at a last year\n",
        "# 1.1x = 10000\n",
        "# x = 10000 / 1.1\n",
        "for i in range(10, 0,-1):\n",
        "  print(f\"Population at the year {i} was {population}\")\n",
        "  population = (population / 1.1 )\n"
      ],
      "metadata": {
        "colab": {
          "base_uri": "https://localhost:8080/"
        },
        "id": "aAiOOhv9rYxd",
        "outputId": "7c17af16-b150-47d6-8cc2-1afc989d4527"
      },
      "execution_count": 14,
      "outputs": [
        {
          "output_type": "stream",
          "name": "stdout",
          "text": [
            "Population at the year 10 was 10000\n",
            "Population at the year 9 was 9090.90909090909\n",
            "Population at the year 8 was 8264.462809917353\n",
            "Population at the year 7 was 7513.148009015775\n",
            "Population at the year 6 was 6830.134553650703\n",
            "Population at the year 5 was 6209.213230591548\n",
            "Population at the year 4 was 5644.739300537771\n",
            "Population at the year 3 was 5131.5811823070635\n",
            "Population at the year 2 was 4665.07380209733\n",
            "Population at the year 1 was 4240.976183724845\n"
          ]
        }
      ]
    },
    {
      "cell_type": "markdown",
      "source": [
        "# Problem 2: Write a program that take a user input of three angles and will find out whether it can form a triangle or not."
      ],
      "metadata": {
        "id": "doqC1MtMxRHS"
      }
    },
    {
      "cell_type": "code",
      "source": [
        "# take input from the user\n",
        "angle_1 = float(input(\"Enter first angle: \"))\n",
        "angle_2 = float(input(\"Enter second angle: \"))\n",
        "angle_3 = float(input(\"Enter third angle: \"))\n",
        "\n",
        "if angle_1 + angle_2 + angle_3 == 180:\n",
        "  print(\"This can form a triangle\")\n",
        "else:\n",
        "  print(\"It can't form a triangle\")"
      ],
      "metadata": {
        "colab": {
          "base_uri": "https://localhost:8080/"
        },
        "id": "NBTbPn9wxW0h",
        "outputId": "b6866e27-6394-448d-daa8-9767f115bc91"
      },
      "execution_count": null,
      "outputs": [
        {
          "output_type": "stream",
          "name": "stdout",
          "text": [
            "Enter first angle: 60\n",
            "Enter second angle: 30\n",
            "Enter third angle: 90\n",
            "This can form a triangle\n"
          ]
        }
      ]
    },
    {
      "cell_type": "markdown",
      "source": [
        "# Problem 3: Write a program that will take user input of cost price and selling price and determines whether its a loss or a profit."
      ],
      "metadata": {
        "id": "m791S4ZFxXym"
      }
    },
    {
      "cell_type": "code",
      "source": [
        "cost_price = float(input(\"Enter cost of the product: \"))\n",
        "selling_price = float(input(\"Enter selling price of the product: \"))\n",
        "\n",
        "if cost_price > selling_price:\n",
        "  print(\"Loss\")\n",
        "elif cost_price < selling_price:\n",
        "  print(\"Profit\")\n",
        "else:\n",
        "  print(\"No effect!\")"
      ],
      "metadata": {
        "colab": {
          "base_uri": "https://localhost:8080/"
        },
        "id": "oFWf9Togxb9s",
        "outputId": "fcba22fa-c3d1-44f3-d6e7-2c6aeb38a7e3"
      },
      "execution_count": null,
      "outputs": [
        {
          "output_type": "stream",
          "name": "stdout",
          "text": [
            "Enter cost of the product: 20\n",
            "Enter selling price of the product: 10\n",
            "Loss\n"
          ]
        }
      ]
    },
    {
      "cell_type": "markdown",
      "source": [
        "### `Problem 4`: Write a menu-driven program -\n",
        "1. cm to ft\n",
        "2. km to miles\n",
        "3. USD to INR\n",
        "4. exit"
      ],
      "metadata": {
        "id": "2AUGi8tExdQj"
      }
    },
    {
      "cell_type": "code",
      "source": [
        "choose = int(input(\"\"\"\n",
        "Hello! What you want to do?\n",
        "1. Enter 1 for to convert cm to ft\n",
        "2. Enter 2 for to convert km to miles\n",
        "3. Enter 3 for to convert USD to Taka\n",
        "4. Enter 4 to exit\n",
        "\"\"\"))\n",
        "\n",
        "if choose == 1:\n",
        "  print(\"cm to ft converted!\") # here the logic behind the scence will be implemeted\n",
        "elif choose == 2:\n",
        "  print(\"km to miles converted!\")\n",
        "elif choose == 3:\n",
        "  print(\"USD to Taka converted!\")\n",
        "else:\n",
        "  print(\"Exit\")"
      ],
      "metadata": {
        "colab": {
          "base_uri": "https://localhost:8080/"
        },
        "id": "0O0tzLoLxlMI",
        "outputId": "1d3ec55b-9107-4562-c556-5eeeccb3ab63"
      },
      "execution_count": null,
      "outputs": [
        {
          "output_type": "stream",
          "name": "stdout",
          "text": [
            "\n",
            "Hello! What you want to do?\n",
            "1. Enter 1 for to convert cm to ft\n",
            "2. Enter 2 for to convert km to miles\n",
            "3. Enter 3 for to convert USD to Taka\n",
            "4. Enter 4 to exit\n",
            "2\n",
            "km to miles converted!\n"
          ]
        }
      ]
    },
    {
      "cell_type": "markdown",
      "source": [
        "### `Problem 6` - Find the factorial of a given number.\n",
        "\n",
        "Write a program to use the loop to find the factorial of a given number.\n",
        "\n",
        "The factorial (symbol: `!`) means to multiply all whole numbers from the chosen number down to 1.\n",
        "\n",
        "For example: calculate the factorial of 5\n",
        "\n",
        "```bash\n",
        "5! = 5 × 4 × 3 × 2 × 1 = 120\n",
        "```\n",
        "\n",
        "Output:\n",
        "\n",
        "```bash\n",
        "120\n",
        "```"
      ],
      "metadata": {
        "id": "9XX5pHesxnIT"
      }
    },
    {
      "cell_type": "code",
      "source": [
        "# calculate the factorial of a given number from the user\n",
        "Num = int(input(\"Enter any number to find factorial: \"))\n",
        "\n",
        "temp = Num\n",
        "result = 1 # store the result\n",
        "while Num > 0:\n",
        "  result *= Num\n",
        "  Num -= 1\n",
        "\n",
        "print(f\"The factorial of {temp} is {result}\")\n"
      ],
      "metadata": {
        "colab": {
          "base_uri": "https://localhost:8080/"
        },
        "id": "Fzl90y_Vxtp8",
        "outputId": "23a3a57e-695b-427f-e2b2-36a661849d8c"
      },
      "execution_count": null,
      "outputs": [
        {
          "output_type": "stream",
          "name": "stdout",
          "text": [
            "Enter any number to find factorial: 5\n",
            "The factorial of 5 is 120\n"
          ]
        }
      ]
    },
    {
      "cell_type": "markdown",
      "source": [
        "### `Problem 8`: Take a user input as integer N. Find out the sum from 1 to N. If any number if divisible by 5, then skip that number. And if the sum is greater than 300, don't need to calculate the sum further more. Print the final result. And don't use for loop to solve this problem.\n",
        "\n",
        "**Example 1:**\n",
        "\n",
        "`Input:`\n",
        "\n",
        "```bash\n",
        "30\n",
        "```\n",
        "\n",
        "`Output:`\n",
        "\n",
        "```bash\n",
        "276\n",
        "```"
      ],
      "metadata": {
        "id": "gPoPs1JeyRET"
      }
    },
    {
      "cell_type": "code",
      "source": [
        "# take user input\n",
        "num = int(input(\"Enter any number: \"))\n",
        "result = 0\n",
        "i = 1\n",
        "while i != num:\n",
        "  if i % 5 != 0 and result < 300:\n",
        "    result += i\n",
        "  i += 1\n",
        "\n",
        "else:\n",
        "  print(f\"The sum of 1 to {num} is: {result}\")"
      ],
      "metadata": {
        "colab": {
          "base_uri": "https://localhost:8080/"
        },
        "id": "HlkiP_JKyRtl",
        "outputId": "10e8126a-7006-49d1-b8a4-92f339e87d35"
      },
      "execution_count": null,
      "outputs": [
        {
          "output_type": "stream",
          "name": "stdout",
          "text": [
            "Enter any number: 5\n",
            "The sum of 1 to 5 is: 10\n"
          ]
        }
      ]
    },
    {
      "cell_type": "markdown",
      "source": [
        "### `Problem 9`: Write a program that keeps on accepting a number from the user until the user enters Zero. Display the sum and average of all the numbers."
      ],
      "metadata": {
        "id": "QdT93ynVyXxF"
      }
    },
    {
      "cell_type": "code",
      "source": [
        "sum = 0 # to store the sum of user input\n",
        "avg = 0 # to store the average of the input\n",
        "cnt = 0 # to count number of entries\n",
        "\n",
        "while True:\n",
        "  user_input = int(input(\"Enter any number: \"))\n",
        "  if(user_input != 0):\n",
        "    sum += user_input\n",
        "    cnt += 1\n",
        "  else:\n",
        "    break\n",
        "\n",
        "avg = sum / cnt\n",
        "print(f\"The sum is {sum}\\n The average is {avg}\")"
      ],
      "metadata": {
        "colab": {
          "base_uri": "https://localhost:8080/"
        },
        "id": "jlO7nwQDyZJq",
        "outputId": "cf2932d7-f197-434e-e71d-34014014bdd6"
      },
      "execution_count": null,
      "outputs": [
        {
          "output_type": "stream",
          "name": "stdout",
          "text": [
            "Enter any number: 4\n",
            "Enter any number: 3\n",
            "Enter any number: 5\n",
            "Enter any number: 0\n",
            "The sum is 12\n",
            " The average is 4.0\n"
          ]
        }
      ]
    },
    {
      "cell_type": "markdown",
      "source": [
        "###`Problem 10`: Write a program which will find all such numbers which are divisible by 7 but are not a multiple of 5, between 2000 and 3200 (both included). The numbers obtained should be printed in a comma-separated sequence on a single line."
      ],
      "metadata": {
        "id": "bVw-V1w3yd-z"
      }
    },
    {
      "cell_type": "code",
      "source": [
        "start = 2000\n",
        "end = 3200\n",
        "\n",
        "while start <= end:\n",
        "  if start % 7 == 0 and start % 5 !=0:\n",
        "    print(start,end=',')\n",
        "  start += 1"
      ],
      "metadata": {
        "colab": {
          "base_uri": "https://localhost:8080/"
        },
        "id": "Ql2znqt9yfF-",
        "outputId": "e182be29-4d4f-41da-e21a-4d0332a1e27b"
      },
      "execution_count": null,
      "outputs": [
        {
          "output_type": "stream",
          "name": "stdout",
          "text": [
            "2002,2009,2016,2023,2037,2044,2051,2058,2072,2079,2086,2093,2107,2114,2121,2128,2142,2149,2156,2163,2177,2184,2191,2198,2212,2219,2226,2233,2247,2254,2261,2268,2282,2289,2296,2303,2317,2324,2331,2338,2352,2359,2366,2373,2387,2394,2401,2408,2422,2429,2436,2443,2457,2464,2471,2478,2492,2499,2506,2513,2527,2534,2541,2548,2562,2569,2576,2583,2597,2604,2611,2618,2632,2639,2646,2653,2667,2674,2681,2688,2702,2709,2716,2723,2737,2744,2751,2758,2772,2779,2786,2793,2807,2814,2821,2828,2842,2849,2856,2863,2877,2884,2891,2898,2912,2919,2926,2933,2947,2954,2961,2968,2982,2989,2996,3003,3017,3024,3031,3038,3052,3059,3066,3073,3087,3094,3101,3108,3122,3129,3136,3143,3157,3164,3171,3178,3192,3199,"
          ]
        }
      ]
    },
    {
      "cell_type": "markdown",
      "source": [
        "###`Problem 11`: Write a program, which will find all such numbers between 1000 and 3000 (both included) such that each digit of the number is an even number. The numbers obtained should be printed in a space-separated sequence on a single line.\n",
        "\n"
      ],
      "metadata": {
        "id": "x9whwPj6yfx-"
      }
    },
    {
      "cell_type": "code",
      "source": [
        "start = 1000\n",
        "end = 3000\n",
        "\n",
        "while start <= end:\n",
        "  a = start\n",
        "\n",
        "  while a > 0:\n",
        "    temp = a % 10\n",
        "    a //= 10\n",
        "    if temp % 2 != 0:\n",
        "      a = -1\n",
        "  if a != -1:\n",
        "    print(start, end=',')\n",
        "  start += 1\n"
      ],
      "metadata": {
        "colab": {
          "base_uri": "https://localhost:8080/"
        },
        "id": "DlTckj8ayjrL",
        "outputId": "9f189125-967c-4734-cf5d-541694f3544f"
      },
      "execution_count": null,
      "outputs": [
        {
          "output_type": "stream",
          "name": "stdout",
          "text": [
            "2000,2002,2004,2006,2008,2020,2022,2024,2026,2028,2040,2042,2044,2046,2048,2060,2062,2064,2066,2068,2080,2082,2084,2086,2088,2200,2202,2204,2206,2208,2220,2222,2224,2226,2228,2240,2242,2244,2246,2248,2260,2262,2264,2266,2268,2280,2282,2284,2286,2288,2400,2402,2404,2406,2408,2420,2422,2424,2426,2428,2440,2442,2444,2446,2448,2460,2462,2464,2466,2468,2480,2482,2484,2486,2488,2600,2602,2604,2606,2608,2620,2622,2624,2626,2628,2640,2642,2644,2646,2648,2660,2662,2664,2666,2668,2680,2682,2684,2686,2688,2800,2802,2804,2806,2808,2820,2822,2824,2826,2828,2840,2842,2844,2846,2848,2860,2862,2864,2866,2868,2880,2882,2884,2886,2888,"
          ]
        }
      ]
    },
    {
      "cell_type": "markdown",
      "source": [
        "###`Problem 12`: A robot moves in a plane starting from the original point (0,0). The robot can move toward UP, DOWN, LEFT and RIGHT with a given steps.\n",
        "The trace of robot movement is shown as the following:\n",
        "```\n",
        "UP 5\n",
        "DOWN 3\n",
        "LEFT 3\n",
        "RIGHT 2\n",
        "!\n",
        "```\n",
        "> The numbers after the direction are steps.\n",
        "\n",
        "> `!` means robot stop there.\n",
        "\n",
        "**Please write a program to compute the distance from current position after a sequence of movement and original point.**\n",
        "\n",
        "*If the distance is a float, then just print the nearest integer.*\n",
        "\n",
        "Example:\n",
        "\n",
        "`Input`:\n",
        "```\n",
        "UP 5\n",
        "DOWN 3\n",
        "LEFT 3\n",
        "RIGHT 2\n",
        "!\n",
        "```\n",
        "`Output`:\n",
        "```\n",
        "2\n",
        "```"
      ],
      "metadata": {
        "id": "YAGq_JUDykOD"
      }
    },
    {
      "cell_type": "code",
      "source": [
        "x = 0\n",
        "y = 0\n",
        "print(\"\"\"\n",
        "Enter the direction and format as below,\n",
        "UP value\n",
        "DOWN value\n",
        "LEFT value\n",
        "RIGHT value\n",
        "to exit : !\n",
        "\"\"\")\n",
        "# direction , value\n",
        "while True:\n",
        "  direction = input(\"Enter direction: \")\n",
        "  if direction == '!' :\n",
        "    break\n",
        "\n",
        "  value = int(input(\"Enter value: \"))\n",
        "\n",
        "  if direction == \"UP\":\n",
        "    y += value\n",
        "  elif direction == \"DOWN\":\n",
        "    y -= value\n",
        "  elif direction == \"LEFT\":\n",
        "    x -= value\n",
        "  else:\n",
        "    x += value\n",
        "\n",
        "import math\n",
        "distance = math.sqrt( x ** 2 + y ** 2)\n",
        "print(round(distance))"
      ],
      "metadata": {
        "colab": {
          "base_uri": "https://localhost:8080/"
        },
        "id": "8JiT6UKqyn-w",
        "outputId": "fe5adbfe-41ec-4c9e-b815-af81b05c163d"
      },
      "execution_count": null,
      "outputs": [
        {
          "output_type": "stream",
          "name": "stdout",
          "text": [
            "\n",
            "Enter the direction and format as below,\n",
            "UP value \n",
            "DOWN value\n",
            "LEFT value\n",
            "RIGHT value\n",
            "to exit : ! \n",
            "\n",
            "Enter direction: UP\n",
            "Enter value: 5\n",
            "Enter direction: DOWN\n",
            "Enter value: 3\n",
            "Enter direction: LEFT\n",
            "Enter value: 3\n",
            "Enter direction: RIGHT\n",
            "Enter value: 3\n",
            "Enter direction: !\n",
            "2\n"
          ]
        }
      ]
    },
    {
      "cell_type": "code",
      "source": [],
      "metadata": {
        "id": "pckLokiC_7e1"
      },
      "execution_count": null,
      "outputs": []
    }
  ]
}